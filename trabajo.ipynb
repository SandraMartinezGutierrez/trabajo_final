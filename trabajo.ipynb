{
 "cells": [
  {
   "cell_type": "code",
   "execution_count": 1,
   "metadata": {},
   "outputs": [],
   "source": [
    "import pandas as pd\n",
    "import numpy as np\n",
    "import pyreadr\n",
    "import math\n",
    "import random\n",
    "import os\n",
    "import csv\n",
    "import matplotlib.pyplot as plt\n",
    "import warnings\n",
    "warnings.filterwarnings(\"ignore\")\n",
    "import time"
   ]
  },
  {
   "cell_type": "markdown",
   "metadata": {},
   "source": [
    "## Parte I"
   ]
  },
  {
   "cell_type": "markdown",
   "metadata": {},
   "source": [
    "### Pregunta 1"
   ]
  },
  {
   "cell_type": "markdown",
   "metadata": {},
   "source": [
    "| Marca – modelo | Precio ($) | Bus Memoria | Memoria | Velocidad de Boost (memoria) | Velocidad Game | Velocidad Bandwidth |\n",
    "| --- | --- | --- | --- | --- | --- | --- |\n",
    "| MSI Radeon  | 515 | 128 bits | 8GB GDDR6 | 2602 MHz | 2413 MHz |  | \n",
    "| RX 6600 XT |       |         |           |         |          |           |\n",
    "| BIOSTAR RADEON RX560  | 515 | 128 bits | 4GB DDR5 | 1175 MHz | 1275MHz |  |\n",
    "| PNY GEFORCE RTX 3060 | 550 | 192 bits | 12GB GDDR6 | 1777 MHz |  | 360 GB | "
   ]
  },
  {
   "cell_type": "markdown",
   "metadata": {},
   "source": [
    "Fuentes:\n",
    "- https://cyccomputer.pe/amd-radeon/21256-msi-radeon-rx-6600-xt-mech-2x-8gb-gddr6-128bits-oc-pn912-v502-015.html\n",
    "- https://cyccomputer.pe/amd-radeon/20821-biostar-radeon-rx560-4gb-ddr5-128bits-gaming-pnva5615rf41-tbhra-bs2.html\n",
    "- https://cyccomputer.pe/nvidia-geforce-rtx/21359-pny-geforce-rtx-3060-12gb-gddr6-192bits-xlr8-gaming-oem-pngmr3061n4jcet1bktp.html"
   ]
  },
  {
   "cell_type": "markdown",
   "metadata": {},
   "source": [
    "Para realizar computación en paralelo, la mejor opción a tomar en cuenta es la MSI Radeon; ya que, cuesta un poco menos que la PNY y tiene varias ventajas, entre estas se tiene que la MSI posee un mayor rendimiento en velocidad de reloj del procesador y de memoria GPU, a pesar de que se está sacrificando un poco de potencia en el procesamiento de la GPU, lo que permite un rendimiento superior para la ejecución de computación en paralelo. \n",
    "\n",
    "Por otra parte, la MSI supera en velocidad de la memoria a los otros modelos, con lo cual se incrementa el rendimiento en aplicaciones ya que tienen mayores registros de velocidad a diferencia de la PNY. También, se puede atribuir a ambas un similar funcionamiento de las tarjetas gráficas, ya que ambas poseen una misma anchura del bus de memoria, con lo cual tienen similar capacidad de soportar más datos por ciclo. Finalmente, se puede concluir que la MSI debería ser la tarjeta gráfica por elegir, ya que tiene un precio no muy distante de la PNY y tiene varias características a favor.\n"
   ]
  },
  {
   "cell_type": "markdown",
   "metadata": {},
   "source": [
    "### Pregunta 2"
   ]
  },
  {
   "cell_type": "markdown",
   "metadata": {},
   "source": [
    "Good Data no será reemplazado por Big Data o viceversa, ya que la estructura para obtener la información es diferente. Incluso en Couper (2013) se menciona que las nuevas formas de obtener data son interesantes, pero no se debe descartar los métodos tradicionales como las encuestas. Sin embargo, si se pueden complementar porque ambas forman parte de las herramientas que usa la ciencia de datos para inferir sobre la realidad. O como señala Ng (2022) se debería buscar tener datos de mejor calidad que partan por una selección basada en big data y las técnicas de IA correspondiente que permita mejorar la selección de pequeños datos.\n",
    "\n",
    "Como ejemplo, se puede entender la información que proviene de las encuestas, ya que son una herramienta potente para levantar información y entender el mundo real, aunque no es la única herramienta. En Couper (2013) se llama una trampa a la idea de pensar que solo las encuestas nos ofrecen la mejor manera de recopilar información. De ahí resulta el Big Data y su facilidad para obtener los datos, los mismos que deben ser parte de un aprendizaje previo y ese redondeo al promedio conocido. Aplicado a la realidad que acabamos de pasar, es el uso de big data por el COVID-19, que finalmente dio lugar a Good data, pues permitió crear modelos de aprendizaje automático referente a trazabilidad del virus u otras aplicaciones de mejora de modelos epidemiológicos.\n",
    "\n",
    "Otro ejemplo, las empresas en todo el mundo han desbordado sus bancos de datos y se han convertido en big data. Desde las cuentas de redes sociales hasta la cadena de suministro y los datos de gastos, las empresas tienen un acceso ilimitado. Pero con más información no necesariamente mejora la calidad del análisis, ya que la recopilación de datos es solo el primer paso. La gestión de datos, junto con el análisis de big data, lo ayudará a extraer los datos útiles y relevantes de las grandes cantidades de información disponible, y ponerlos en uso para generar valor y productividad para su negocio. Esto último es un claro ejemplo de good data."
   ]
  },
  {
   "cell_type": "markdown",
   "metadata": {},
   "source": [
    "### Pregunta 3"
   ]
  },
  {
   "cell_type": "markdown",
   "metadata": {},
   "source": [
    "Al momento de importar nuestra base de datos, nuestras variables fueron importadas como de tipo 'O'. Inicialmente, tratamos de convertirlas en numéricas para poder realizar cálculos. Sin embargo, tuvimos dificultades realizando ello. Por ende, publicamos nuestro problema en Stackoverflow."
   ]
  },
  {
   "cell_type": "markdown",
   "metadata": {},
   "source": [
    "https://stackoverflow.com/questions/72828144/how-can-i-convert-an-object-variable-with-nan-into-an-int-variable-in-python"
   ]
  },
  {
   "cell_type": "markdown",
   "metadata": {},
   "source": [
    "## Parte II"
   ]
  },
  {
   "cell_type": "markdown",
   "metadata": {},
   "source": [
    "### Pregunta 1"
   ]
  },
  {
   "cell_type": "markdown",
   "metadata": {},
   "source": [
    "El presente trabajo busca predecir si es que una mujer en edad fértil (15 a 49 años) en Perú sufre de algún tipo de violencia (emocional, física o sexual) por parte de su esposo/compañero. Para esto, se hará uso de la Encuesta Demográfica y de Salud Familiar (ENDES)."
   ]
  },
  {
   "cell_type": "markdown",
   "metadata": {},
   "source": [
    "El módulo en el que se encuentran las variables de mayor interés es el de “Violencia Familiar”, el cual es ejecutado de manera continua desde 2008 . Las preguntas de este módulo son aplicadas aleatoriamente a una mujer por hogar que se encuentre en edad fértil (de 15 a 49 años). De este módulo, se construirá la variable target."
   ]
  },
  {
   "cell_type": "markdown",
   "metadata": {},
   "source": [
    "La variable target es una dummy que indica si es que la mujer ha sufrido violencia por parte de su esposo/compañero. Para la construcción del target, se hace uso de 4 variables (D104, D106, D107, D108). Si es que alguna de estas variables toma el valor de 1, entonces la mujer ha sido víctima de al menos algún tipo de violencia."
   ]
  },
  {
   "cell_type": "markdown",
   "metadata": {},
   "source": [
    "D104: Hubo violencia emocional | 0=No, 1=Sí\n",
    "\n",
    "D106: Experimentó cualquier violencia física menos severa | 0=No, 1=Sí\n",
    "\n",
    "D107: Experimentó cualquier violencia física severa | 0=No, 1=Sí\n",
    "\n",
    "D108: Experimentó cualquier violencia sexual | 0=No, 1=Sí"
   ]
  },
  {
   "cell_type": "markdown",
   "metadata": {},
   "source": [
    "En cuanto a las variables predictoras, se han considerado las siguientes:"
   ]
  },
  {
   "cell_type": "markdown",
   "metadata": {},
   "source": [
    "* SREGION: Región Natural (Categórica)\n",
    "* S108N: Nivel educativo (Categórica)\n",
    "* S119: Idioma o lengua materna (Categórica)\n",
    "* S119D: Etnicidad (Categórica)\n",
    "* V213: Está embarazada (Dummy)\n",
    "* V501: Estado conyugal actual (Categórica)\n",
    "* V714: Entrevistada actualmente trabaja (Dummy)"
   ]
  },
  {
   "cell_type": "markdown",
   "metadata": {},
   "source": [
    "### Pregunta 2"
   ]
  },
  {
   "cell_type": "markdown",
   "metadata": {},
   "source": [
    "* Primero, la data fue dividida en grupos de entrenamiento y test.\n",
    "* Para utilizar lasso, se definieron los valores de alpha. Se ajustó por número de iteración hasta 1000 iteraciones.\n",
    "* Se definieron los parámetros del modelo lasso.\n",
    "* Se definió el pipeline de lasso.\n",
    "* Se seleccionó el grid search usando cross validation. Para ello, se hizo uso de 15 CPUs durante el proceso de cross validation.\n",
    "* Se hizo fit del modelo con la data train.\n",
    "* Finalmente, se predijo la variable de interés usando la data de prueba."
   ]
  },
  {
   "cell_type": "markdown",
   "metadata": {},
   "source": [
    "### Pregunta 3"
   ]
  },
  {
   "cell_type": "markdown",
   "metadata": {},
   "source": [
    "### Parte a"
   ]
  },
  {
   "cell_type": "markdown",
   "metadata": {},
   "source": [
    "En primer lugar, de forma serial, se diseñó un loop para poder extraer las ubicaciones de las bases de datos; no se realizó esta parte de forma paralelizada porque esto depende de la ubicación de los datasets en cada una de las computadoras de cada integrante. Luego de esto, se procedió a abrir los archivos .csv. Para esta operación, se utilizó dask, pues reducía el tiempo de ejecución a comparación de realizarlo solo con la librería pandas. \n",
    "Ahora bien, para la limpieza de las bases de datos, se recurrió a un conjunto de operaciones de forma secuencial, pues muchas de estas consistían en cambiar el formato del tipo de dato (de 'O' a 'Int64'), reemplazar valores NaN, convertir resgistros 'Float' a registros 'Int64', filtrar por columnas, y creación de variables. Además, los gráficos y la descripción estadísticas de las variables de interés se hizo de forma secuencial.\n",
    "Finalmente, se corrió un modelo de Machine-Learning usando Lasso. Para poder comparar los tiempos de ejecución, se diseñó un proceso secuencial y, luego, proceso paralelizado. Tal como queda registrado, el proceso paralelizado se ejecutó de forma más rápida."
   ]
  },
  {
   "cell_type": "markdown",
   "metadata": {},
   "source": [
    "### Parte b"
   ]
  },
  {
   "cell_type": "markdown",
   "metadata": {},
   "source": [
    "1. Particionamiento\n",
    "    \n",
    "    Se establecen 15 CPUs que van a encargarse de dividir los datos en training y test. Sobre ello, se establece el pip line.\n",
    "    \n",
    "2. Comunicación\n",
    "\n",
    "    Se le pide que haga un score de la predicción a partir del filtro 'neg_mean_squared_error' y para ello es necesario que los datos se comuniquen para filtrar el mejor valor. \n",
    "\n",
    "3. Agregación\n",
    "    \n",
    "    Dados los parámetros que se establecen en el dgrid se procede con el fit de la data de entrenamiento. Luego se realiza el predict de los datos de testeo en cada CPU.\n",
    "\n",
    "4. Mapping\n",
    "\n",
    "    Las tareas fueron asignadas a 15 CPUs. "
   ]
  },
  {
   "cell_type": "markdown",
   "metadata": {},
   "source": [
    "### Parte c"
   ]
  },
  {
   "cell_type": "markdown",
   "metadata": {},
   "source": [
    "Idealmente, debido a la extensión de la data consideramos que el GPU sería el adecuado para importar la data, recodificar las variables, realizar estadísticos descriptivos y gráficos, así como delimitar los parámetros del modelo de Machine Learning. Sin embargo, el uso del CPU, considerando su capacidad para tareas complejas, sería utilizado en el merge del total de datos y el proceso de entrenamiento y predicción del modelo de Machine Learning."
   ]
  },
  {
   "cell_type": "markdown",
   "metadata": {},
   "source": [
    "### Parte d"
   ]
  },
  {
   "cell_type": "markdown",
   "metadata": {},
   "source": [
    "Los cuellos de botella identificados son los siguientes:\n",
    "- Al momento de realizar el merge entre los distintos módulos de la ENDES -> al tratarse de 9 módulos, dask permite reducir el tiempo de ejecución de la tarea.\n",
    "- Convertir de object a int las columnas del dask dataframe -> creamos un loop que pensaba iterar cada una de las variables del dataframe. Al inicio, pensamos pensamos hacerlo usando pandas, pero el tiempo de ejecución fue muy extenso. Dado ello, usamos dask para hacer esa conversión."
   ]
  },
  {
   "cell_type": "markdown",
   "metadata": {},
   "source": [
    "### Pregunta 4"
   ]
  },
  {
   "cell_type": "markdown",
   "metadata": {},
   "source": [
    "### Parte a"
   ]
  },
  {
   "cell_type": "markdown",
   "metadata": {},
   "source": [
    "Primero, importamos los archivos archivos CSV que tenemos en la carpeta data"
   ]
  },
  {
   "cell_type": "code",
   "execution_count": 2,
   "metadata": {},
   "outputs": [
    {
     "name": "stdout",
     "output_type": "stream",
     "text": [
      "Files and directories in a specified path:\n",
      "data\\endes_2021_programas_sociales_hogar.csv\n",
      "data\\endes_2021_RE223132.csv\n",
      "data\\endes_2021_RE516171.csv\n",
      "data\\endes_2021_RE758081.csv\n",
      "data\\endes_2021_REC84DV.csv\n",
      "data\\endes_2021_REC91.csv\n",
      "data\\endes_2021_REC93DVdisciplina.csv\n",
      "data\\endes_2021_REC95.csv\n",
      "data\\endes_2021_RECH23.csv\n",
      "Wall time: 2.99 ms\n"
     ]
    }
   ],
   "source": [
    "%%time \n",
    "\n",
    "# En folderpath, se debe cambia el path en donde se encuentren los archivos CSV\n",
    "folderpath =  r\"data\"\n",
    "print(\"Files and directories in a specified path:\")\n",
    "files = []\n",
    "for filename in os.listdir(folderpath):\n",
    "    f = os.path.join(folderpath, filename)\n",
    "    files.append(f)\n",
    "    if os.path.isfile(f):\n",
    "        print(f)"
   ]
  },
  {
   "cell_type": "markdown",
   "metadata": {},
   "source": [
    "#### Import csv using dask\n"
   ]
  },
  {
   "cell_type": "code",
   "execution_count": 3,
   "metadata": {
    "scrolled": true
   },
   "outputs": [
    {
     "data": {
      "text/html": [
       "<table style=\"border: 2px solid white;\">\n",
       "<tr>\n",
       "<td style=\"vertical-align: top; border: 0px solid white\">\n",
       "<h3 style=\"text-align: left;\">Client</h3>\n",
       "<ul style=\"text-align: left; list-style: none; margin: 0; padding: 0;\">\n",
       "  <li><b>Scheduler: </b>tcp://127.0.0.1:49355</li>\n",
       "  <li><b>Dashboard: </b><a href='http://127.0.0.1:8787/status' target='_blank'>http://127.0.0.1:8787/status</a></li>\n",
       "</ul>\n",
       "</td>\n",
       "<td style=\"vertical-align: top; border: 0px solid white\">\n",
       "<h3 style=\"text-align: left;\">Cluster</h3>\n",
       "<ul style=\"text-align: left; list-style:none; margin: 0; padding: 0;\">\n",
       "  <li><b>Workers: </b>4</li>\n",
       "  <li><b>Cores: </b>8</li>\n",
       "  <li><b>Memory: </b>12.68 GB</li>\n",
       "</ul>\n",
       "</td>\n",
       "</tr>\n",
       "</table>"
      ],
      "text/plain": [
       "<Client: 'tcp://127.0.0.1:49355' processes=4 threads=8, memory=12.68 GB>"
      ]
     },
     "execution_count": 3,
     "metadata": {},
     "output_type": "execute_result"
    }
   ],
   "source": [
    "from dask.distributed import Client, LocalCluster\n",
    "cluster = LocalCluster()  # Launches a scheduler and workers locally\n",
    "client = Client(cluster)  # Connect to distributed cluster and override default\n",
    "client"
   ]
  },
  {
   "cell_type": "code",
   "execution_count": 4,
   "metadata": {},
   "outputs": [],
   "source": [
    "import dask.dataframe as dd"
   ]
  },
  {
   "cell_type": "code",
   "execution_count": 5,
   "metadata": {},
   "outputs": [],
   "source": [
    "#guardamos los dask dataframes en una lista\n",
    "dfs = []\n",
    "\n",
    "for file in files:\n",
    "    \n",
    "    df = dd.read_csv(file, dtype=str)\n",
    "    dfs.append(df)"
   ]
  },
  {
   "cell_type": "code",
   "execution_count": 6,
   "metadata": {},
   "outputs": [],
   "source": [
    "#asignamos nombres a los dataframes\n",
    "programas_sociales = dfs[0]\n",
    "nacimiento = dfs[1]\n",
    "nupcialidad_fecundidad = dfs[2]\n",
    "sida_condon = dfs[3]\n",
    "mortalidad_violencia = dfs[4]\n",
    "MEF = dfs[5] \n",
    "disciplina_infantil = dfs[6]\n",
    "inmunizacion_salud = dfs[7]\n",
    "vivienda = dfs[8]"
   ]
  },
  {
   "cell_type": "code",
   "execution_count": 7,
   "metadata": {},
   "outputs": [
    {
     "name": "stdout",
     "output_type": "stream",
     "text": [
      "nacimiento\n",
      "nupcialidad_fecundidad\n",
      "sida_condon\n",
      "mortalidad_violencia\n",
      "MEF\n",
      "disciplina_infantil\n",
      "inmunizacion_salud\n"
     ]
    }
   ],
   "source": [
    "# identificar bases que tengan CASEID, ya que esas son las que utilizaremos para el merge\n",
    "df_list = [programas_sociales, nacimiento, nupcialidad_fecundidad, sida_condon, mortalidad_violencia, MEF, disciplina_infantil,\n",
    "          inmunizacion_salud,vivienda]\n",
    "\n",
    "df_list_names = [\"programas_sociales\", \"nacimiento\", \"nupcialidad_fecundidad\", \"sida_condon\", \"mortalidad_violencia\", \"MEF\", \"disciplina_infantil\",\n",
    "          \"inmunizacion_salud\",\"vivienda\"]\n",
    "\n",
    "df_CASEID = []\n",
    "\n",
    "for df, df_name in zip(df_list,df_list_names):\n",
    "       \n",
    "    if 'CASEID' in df.columns:\n",
    "        print(df_name)\n",
    "        \n",
    "        df_CASEID.append(df)"
   ]
  },
  {
   "cell_type": "markdown",
   "metadata": {},
   "source": [
    "#### Merging dfs"
   ]
  },
  {
   "cell_type": "code",
   "execution_count": 8,
   "metadata": {},
   "outputs": [
    {
     "name": "stdout",
     "output_type": "stream",
     "text": [
      "Wall time: 257 ms\n"
     ]
    }
   ],
   "source": [
    "%%time\n",
    "base_total = nacimiento.merge(nupcialidad_fecundidad, on = ['CASEID', 'ID1'], how ='left').merge(sida_condon, on = ['CASEID', 'ID1'], how ='left').merge(mortalidad_violencia, on = ['CASEID', 'ID1'], how ='left').merge(MEF, on = ['CASEID', 'ID1'], how ='left').merge(disciplina_infantil, on = ['CASEID', 'ID1'], how ='left').merge(inmunizacion_salud, on = ['CASEID', 'ID1'], how ='left')"
   ]
  },
  {
   "cell_type": "code",
   "execution_count": 9,
   "metadata": {},
   "outputs": [
    {
     "name": "stdout",
     "output_type": "stream",
     "text": [
      "Wall time: 51.2 s\n"
     ]
    }
   ],
   "source": [
    "%%time\n",
    "df_final = base_total.compute()"
   ]
  },
  {
   "cell_type": "code",
   "execution_count": 10,
   "metadata": {},
   "outputs": [
    {
     "name": "stdout",
     "output_type": "stream",
     "text": [
      "Wall time: 581 ms\n"
     ]
    },
    {
     "data": {
      "text/plain": [
       "(43137, 27)"
      ]
     },
     "execution_count": 10,
     "metadata": {},
     "output_type": "execute_result"
    }
   ],
   "source": [
    "%%time \n",
    "\n",
    "# Seleccionando las variables de interés \n",
    "variables = ['ID1', 'SREGION', 'SPROVIN', 'SDISTRI', 'CASEID',\n",
    "             'S108N', 'S119', 'S119D', 'V218', 'V213', 'V225',    # carac. personales\n",
    "             'S45D4', 'S45D5', 'S45P4', 'S45P5', 'S45B0',    # vacunas\n",
    "             'S45B1', 'S45B2', 'S45B3', 'S45F1', 'S45F2',    # vacunas\n",
    "             'V501', 'V714', 'D104', 'D106', 'D107', 'D108']\n",
    "\n",
    "data_final = df_final[variables]\n",
    "data_final.shape"
   ]
  },
  {
   "cell_type": "code",
   "execution_count": 11,
   "metadata": {},
   "outputs": [],
   "source": [
    "# Convertimos las variables 'object' a integer para poder hacer posteriores operaciones entre columnas\n",
    "for i in variables:\n",
    "        if data_final[i].dtype == 'O':\n",
    "            data_final[i] = data_final[i].str.replace(\" \", \"\")\n",
    "            # Reemplazando los missing values por NaN\n",
    "            data_final[i] = data_final[i].replace(' ', np.nan)\n",
    "\n",
    "            # Convirtiendo los datos a valores numéricos\n",
    "            data_final[i] =  np.floor(pd.to_numeric(data_final[i], errors='coerce').astype('Int64'))"
   ]
  },
  {
   "cell_type": "markdown",
   "metadata": {},
   "source": [
    "#### Creación de por lo menos dos variables"
   ]
  },
  {
   "cell_type": "markdown",
   "metadata": {},
   "source": [
    "*Las variables de interés son las siguientes:*\n",
    "\n",
    "D104: Hubo violencia emocional | 0=No, 1=Sí\n",
    "\n",
    "D106: Experimentó cualquier violencia física menos severa | 0=No, 1=Sí\n",
    "\n",
    "D107: Experimentó cualquier violencia física severa | 0=No, 1=Sí\n",
    "\n",
    "D108: Experimentó cualquier violencia sexual | 0=No, 1=Sí\n",
    "\n"
   ]
  },
  {
   "cell_type": "markdown",
   "metadata": {},
   "source": [
    "1) Creamos una variable que indique la cantidad de tipos de violencia (emocional, física menos severa, física severa, sexual) que la mujer ha sido víctima por parte de su esposo/compañero. Esta variable está en el rango de 0 a 4."
   ]
  },
  {
   "cell_type": "code",
   "execution_count": 12,
   "metadata": {},
   "outputs": [],
   "source": [
    "# Agregando los datos para evaluar cuántas mujeres han sido víctimas de violencia en al menos una de sus modalidades\n",
    "data_final['violencia'] = data_final['D104'] + data_final['D106'] + data_final['D107'] + data_final['D108']"
   ]
  },
  {
   "cell_type": "markdown",
   "metadata": {},
   "source": [
    "2) Creamos una variable dicotómica que indique si es que la mujer ha sido víctima de, al menos, un tipo de violencia por parte de su esposo/compañero"
   ]
  },
  {
   "cell_type": "code",
   "execution_count": 13,
   "metadata": {},
   "outputs": [],
   "source": [
    "# Creando variable dummy \n",
    "data_final['y'] = data_final['violencia']\n",
    "data_final.loc[(data_final['y'] > 0), 'y'] = 1"
   ]
  },
  {
   "cell_type": "markdown",
   "metadata": {},
   "source": [
    "#### Dos estadísticos descriptivos "
   ]
  },
  {
   "cell_type": "code",
   "execution_count": 14,
   "metadata": {},
   "outputs": [
    {
     "data": {
      "text/html": [
       "<div>\n",
       "<style scoped>\n",
       "    .dataframe tbody tr th:only-of-type {\n",
       "        vertical-align: middle;\n",
       "    }\n",
       "\n",
       "    .dataframe tbody tr th {\n",
       "        vertical-align: top;\n",
       "    }\n",
       "\n",
       "    .dataframe thead th {\n",
       "        text-align: right;\n",
       "    }\n",
       "</style>\n",
       "<table border=\"1\" class=\"dataframe\">\n",
       "  <thead>\n",
       "    <tr style=\"text-align: right;\">\n",
       "      <th></th>\n",
       "      <th>n_violencia</th>\n",
       "      <th>n_casos</th>\n",
       "      <th>%</th>\n",
       "    </tr>\n",
       "  </thead>\n",
       "  <tbody>\n",
       "    <tr>\n",
       "      <th>0</th>\n",
       "      <td>0</td>\n",
       "      <td>18395</td>\n",
       "      <td>66.16</td>\n",
       "    </tr>\n",
       "    <tr>\n",
       "      <th>1</th>\n",
       "      <td>1</td>\n",
       "      <td>4372</td>\n",
       "      <td>15.72</td>\n",
       "    </tr>\n",
       "    <tr>\n",
       "      <th>2</th>\n",
       "      <td>2</td>\n",
       "      <td>2621</td>\n",
       "      <td>9.43</td>\n",
       "    </tr>\n",
       "    <tr>\n",
       "      <th>3</th>\n",
       "      <td>3</td>\n",
       "      <td>1598</td>\n",
       "      <td>5.75</td>\n",
       "    </tr>\n",
       "    <tr>\n",
       "      <th>4</th>\n",
       "      <td>4</td>\n",
       "      <td>817</td>\n",
       "      <td>2.94</td>\n",
       "    </tr>\n",
       "  </tbody>\n",
       "</table>\n",
       "</div>"
      ],
      "text/plain": [
       "   n_violencia  n_casos      %\n",
       "0            0    18395  66.16\n",
       "1            1     4372  15.72\n",
       "2            2     2621   9.43\n",
       "3            3     1598   5.75\n",
       "4            4      817   2.94"
      ]
     },
     "execution_count": 14,
     "metadata": {},
     "output_type": "execute_result"
    }
   ],
   "source": [
    "# Tabla de frecuencias por cantidad de agravios que la mujer sufre\n",
    "tab1 = data_final['violencia'].value_counts().to_frame().reset_index()\n",
    "tab1.rename(columns = {'index':'n_violencia', 'violencia':'n_casos'}, inplace = True)\n",
    "tab1['n_violencia'] = tab1['n_violencia'].astype(int)\n",
    "\n",
    "tab1['%'] = round( (tab1['n_casos']/sum(tab1.n_casos))*100 , 2)\n",
    "tab1"
   ]
  },
  {
   "cell_type": "markdown",
   "metadata": {},
   "source": [
    "Se observa que el 66.16% de mujeres no sufren ningún tipo de violencia por parte de su esposo/compañero. Sin embargo, hay un 15.72% de mujeres que sufren 1 tipo de violencia. Se encuentra que solo el 2.94% de mujeres sufren los 4 tipos de violencia."
   ]
  },
  {
   "cell_type": "code",
   "execution_count": 15,
   "metadata": {},
   "outputs": [
    {
     "data": {
      "text/html": [
       "<div>\n",
       "<style scoped>\n",
       "    .dataframe tbody tr th:only-of-type {\n",
       "        vertical-align: middle;\n",
       "    }\n",
       "\n",
       "    .dataframe tbody tr th {\n",
       "        vertical-align: top;\n",
       "    }\n",
       "\n",
       "    .dataframe thead th {\n",
       "        text-align: right;\n",
       "    }\n",
       "</style>\n",
       "<table border=\"1\" class=\"dataframe\">\n",
       "  <thead>\n",
       "    <tr style=\"text-align: right;\">\n",
       "      <th></th>\n",
       "      <th>d_violencia</th>\n",
       "      <th>n_casos</th>\n",
       "      <th>%</th>\n",
       "    </tr>\n",
       "  </thead>\n",
       "  <tbody>\n",
       "    <tr>\n",
       "      <th>0</th>\n",
       "      <td>0</td>\n",
       "      <td>18395</td>\n",
       "      <td>66.16</td>\n",
       "    </tr>\n",
       "    <tr>\n",
       "      <th>1</th>\n",
       "      <td>1</td>\n",
       "      <td>9408</td>\n",
       "      <td>33.84</td>\n",
       "    </tr>\n",
       "  </tbody>\n",
       "</table>\n",
       "</div>"
      ],
      "text/plain": [
       "   d_violencia  n_casos      %\n",
       "0            0    18395  66.16\n",
       "1            1     9408  33.84"
      ]
     },
     "execution_count": 15,
     "metadata": {},
     "output_type": "execute_result"
    }
   ],
   "source": [
    "#tabla de frecuencia de la cantidad de casos de violencia\n",
    "tab2 = data_final['y'].value_counts().to_frame().reset_index()\n",
    "tab2.rename(columns = {'index':'d_violencia', 'y':'n_casos'}, inplace = True)\n",
    "tab2['d_violencia'] = tab2['d_violencia'].astype(int)\n",
    "\n",
    "tab2['%'] = round( (tab2['n_casos']/sum(tab2.n_casos))*100 , 2)\n",
    "tab2"
   ]
  },
  {
   "cell_type": "markdown",
   "metadata": {},
   "source": [
    "Se encuentra que un 33.84% de las mujeres de la muestra sufren de, al menos, algún tipo de violencia por parte de su esposo/compañero."
   ]
  },
  {
   "cell_type": "markdown",
   "metadata": {},
   "source": [
    "#### Gráficos"
   ]
  },
  {
   "cell_type": "code",
   "execution_count": 17,
   "metadata": {},
   "outputs": [
    {
     "data": {
      "image/png": "[encoded data removed]",
      "text/plain": [
       "<Figure size 720x360 with 1 Axes>"
      ]
     },
     "metadata": {
      "needs_background": "light"
     },
     "output_type": "display_data"
    }
   ],
   "source": [
    "# Número de encuestadas que han sido víctimas de algún tipo de violencia por parte de su pareja\n",
    "tab_plot=tab2.rename(columns = {'d_violencia':'victima_pareja', 'n_casos':'Total'})\n",
    "# Convertir en str la dicotómica de 'victima_pareja'\n",
    "tab_plot['victima_pareja'] = tab_plot.victima_pareja.astype(str)\n",
    "# tamaño de la figura\n",
    "fig = plt.figure(figsize = (10, 5))\n",
    "#  Bar plot\n",
    "plt.bar(tab_plot['victima_pareja'], # establecer variable del eje x\n",
    "        tab_plot['Total'], # establecer variable del eje y\n",
    "        color ='paleturquoise', # color de las barras\n",
    "        width = 0.5)\n",
    "# nombre de etiqueta eje x\n",
    "plt.xlabel(\"Víctima de violencia\")\n",
    "# nombre de etiqueta ejey y\n",
    "plt.ylabel(\"Encuestadas\")\n",
    "# título del gráfico\n",
    "plt.title(\"Número de encuestadas víctimas de algún tipo de violencia por parte de su pareja\")\n",
    "plt.show()"
   ]
  },
  {
   "cell_type": "code",
   "execution_count": 18,
   "metadata": {},
   "outputs": [],
   "source": [
    "# Tabla de frecuencias - casos de violencias menos severa\n",
    "tot_D106 = data_final.groupby('D106')['D106'].count()\n",
    "tot_D106=tot_D106.rename(None).to_frame().reset_index()# Resultado a dataframe\n",
    "tot_D106.columns=['Victima','Violencia_menos_severa']# Cambio de nombre en las columnas\n",
    "# Tabla de frecuencias - casos de violencias severa\n",
    "tot_D107 = data_final.groupby('D107')['D107'].count()\n",
    "tot_D107=tot_D107.rename(None).to_frame().reset_index()# Resultado a dataframe\n",
    "tot_D107.columns=['Victima','Violencia_severa']# Cambio de nombre en las columnas\n",
    "# Tabla de frecuencias - casos de violencias sexual\n",
    "tot_D108 = data_final.groupby('D108')['D108'].count()\n",
    "tot_D108=tot_D108.rename(None).to_frame().reset_index()# Resultado a dataframe\n",
    "tot_D108.columns=['Victima','Violencia_sexual']# Cambio de nombre en las columnas\n",
    "# Merge de las tablas de frecuencia según cada tipo\n",
    "tab_plot = pd.merge(tot_D106, tot_D107, on='Victima', how='left')\n",
    "tab_plot = pd.merge(tab_plot, tot_D108, on='Victima', how='left')\n",
    "tab_plot['Victima'] = tab_plot.Victima.astype(str)\n",
    "# Setear víctima como el índice\n",
    "tab_plot = tab_plot.set_index('Victima')"
   ]
  },
  {
   "cell_type": "code",
   "execution_count": 19,
   "metadata": {},
   "outputs": [
    {
     "data": {
      "text/plain": [
       "Text(0, 0.5, 'Experimentó violencia')"
      ]
     },
     "execution_count": 19,
     "metadata": {},
     "output_type": "execute_result"
    },
    {
     "data": {
      "image/png": "[encoded data removed]",
      "text/plain": [
       "<Figure size 1080x576 with 1 Axes>"
      ]
     },
     "metadata": {
      "needs_background": "light"
     },
     "output_type": "display_data"
    }
   ],
   "source": [
    "# Gráfico del número de mujeres víctima de violencia, según el tipo de violencia\n",
    "tab_plot.plot(kind=\"bar\",figsize=(15, 8), color = ['lightcoral','indianred','firebrick'])\n",
    "plt.title(\"Número de mujeres víctima de violencia, según el tipo de violencia\") # establecer título\n",
    "plt.xlabel(\"Total\") # etiqueta de eje x\n",
    "plt.ylabel(\"Experimentó violencia\") # etiqueta de eje y"
   ]
  },
  {
   "cell_type": "markdown",
   "metadata": {},
   "source": [
    "### Parte b"
   ]
  },
  {
   "cell_type": "code",
   "execution_count": 20,
   "metadata": {},
   "outputs": [
    {
     "data": {
      "text/plain": [
       "Index(['ID1', 'SREGION', 'SPROVIN', 'SDISTRI', 'CASEID', 'S108N', 'S119',\n",
       "       'S119D', 'V218', 'V213', 'V225', 'S45D4', 'S45D5', 'S45P4', 'S45P5',\n",
       "       'S45B0', 'S45B1', 'S45B2', 'S45B3', 'S45F1', 'S45F2', 'V501', 'V714',\n",
       "       'D104', 'D106', 'D107', 'D108', 'violencia', 'y'],\n",
       "      dtype='object')"
      ]
     },
     "execution_count": 20,
     "metadata": {},
     "output_type": "execute_result"
    }
   ],
   "source": [
    "data_final.columns"
   ]
  },
  {
   "cell_type": "markdown",
   "metadata": {},
   "source": [
    "#### Definición de predictores (X) y vector de target (y)"
   ]
  },
  {
   "cell_type": "markdown",
   "metadata": {},
   "source": [
    "Nuestro variable a predecir (y) será una una dummy que toma el valor de 1 si es que la mujer ha sufrido algún tipo de violencia por parte de su compañero/esposo. Esta variable toma el valor de 0 si es que no ha sufrido violencia."
   ]
  },
  {
   "cell_type": "markdown",
   "metadata": {},
   "source": [
    "En cuanto a las variables que se usarán como predictores (X), serán las siguientes:\n",
    "\n",
    "* SREGION: Región Natural (Categórica)\n",
    "* S108N: Nivel educativo (Categórica)\n",
    "* S119: Idioma o lengua materna (Categórica)\n",
    "* S119D: Etnicidad (Categórica)\n",
    "* V213: Está embarazada (Dummy)\n",
    "* V501: Estado conyugal actual (Categórica)\n",
    "* V714: Entrevistada actualmente trabaja  (Dummy)"
   ]
  },
  {
   "cell_type": "markdown",
   "metadata": {},
   "source": [
    "Dado que no es intención del ejercicio complejizar el modelo, solo dichas variables fueron consideradas para el modelo de ML que será utilizado."
   ]
  },
  {
   "cell_type": "markdown",
   "metadata": {},
   "source": [
    "#### Limpieza de predictores a ser utilizados en el modelo de ML"
   ]
  },
  {
   "cell_type": "code",
   "execution_count": 21,
   "metadata": {},
   "outputs": [],
   "source": [
    "categorical_vars = ['SREGION', 'S108N', 'S119', 'S119D', 'V213', 'V501', 'V714'] \n",
    "\n",
    "final_vars = ['SREGION', 'S108N', 'S119', 'S119D', 'V213', 'V501', 'V714', 'y']"
   ]
  },
  {
   "cell_type": "code",
   "execution_count": 22,
   "metadata": {},
   "outputs": [],
   "source": [
    "#limitamos nuestro dataframe a solo las variables que serán utilizadas en el modelo de ML\n",
    "data_ml = data_final[final_vars]"
   ]
  },
  {
   "cell_type": "code",
   "execution_count": 23,
   "metadata": {},
   "outputs": [],
   "source": [
    "#convertimos las variables que deberian ser categóricas en \"category\"\n",
    "for col in categorical_vars:\n",
    "    data_ml[col] = data_ml[col].astype('category',copy=False)"
   ]
  },
  {
   "cell_type": "code",
   "execution_count": 24,
   "metadata": {},
   "outputs": [],
   "source": [
    "#colocandole labels a las variables categóricas para mayor entendimiento\n",
    "#Tambien reducimos el número de categorías para determinadas variables\n",
    "\n",
    "#región natural:\n",
    "data_ml.SREGION.replace({1.0:'lima', 2.0: 'costa', 3.0:'sierra',4.0:'selva'}, inplace = True)\n",
    "\n",
    "#nivel educativo:\n",
    "data_ml.S108N.replace({0.0:'ninguno', 1.0: 'primaria', 2.0:'secundaria',3.0:'superior',4.0:'superior',5.0:'superior'}, inplace = True)\n",
    "\n",
    "#lengua materna:\n",
    "data_ml.S119.replace({1.0:'nativo', 2.0: 'nativo', 3.0:'nativo',4.0:'nativo',5.0:'nativo',6.0:'nativo', 7.0:'nativo', 8.0:'nativo', 9.0:'nativo', 10.0:'castellano', 11.0:'extranjero', 12.0:'extranjero'}, inplace = True)\n",
    "\n",
    "#etnicidad:\n",
    "data_ml.S119D.replace({1.0:'nativo', 2.0: 'nativo', 3.0:'nativo',4.0:'nativo',5.0:'negro',6.0:'blanco', 7.0:'mestizo', 8.0:'otro', 98.0:'no_sabe'}, inplace = True)\n",
    "\n",
    "#está embaraza:\n",
    "data_ml.V213.replace({1.0:'si', 0.0: 'no'}, inplace = True)\n",
    "\n",
    "#estado conyugal\n",
    "data_ml.V501.replace({0.0:'no_casada', 1.0: 'casada', 2.0:'conviviente', 3.0:'viuda', 4.0:'divorciada',5.0:'no_viven_juntos'}, inplace = True)\n",
    "\n",
    "#actualmente trabaja\n",
    "data_ml.V714.replace({1.0:'si', 0.0: 'no'}, inplace = True)"
   ]
  },
  {
   "cell_type": "code",
   "execution_count": 25,
   "metadata": {},
   "outputs": [
    {
     "name": "stdout",
     "output_type": "stream",
     "text": [
      "sierra    14068\n",
      "costa     12699\n",
      "selva     10856\n",
      "lima       5514\n",
      "Name: SREGION, dtype: int64\n",
      "secundaria    21139\n",
      "superior      12425\n",
      "primaria       8982\n",
      "ninguno         591\n",
      "Name: S108N, dtype: int64\n",
      "castellano    34581\n",
      "nativo         8502\n",
      "extranjero       54\n",
      "Name: S119, dtype: int64\n",
      "mestizo    18437\n",
      "nativo     14176\n",
      "negro       4960\n",
      "blanco      3061\n",
      "no_sabe     2118\n",
      "otro         385\n",
      "Name: S119D, dtype: int64\n",
      "no    41940\n",
      "si     1197\n",
      "Name: V213, dtype: int64\n",
      "conviviente        19920\n",
      "no_casada          10956\n",
      "casada              7272\n",
      "no_viven_juntos     4868\n",
      "viuda                 75\n",
      "divorciada            46\n",
      "Name: V501, dtype: int64\n",
      "si    20507\n",
      "no    19535\n",
      "Name: V714, dtype: int64\n"
     ]
    }
   ],
   "source": [
    "#verificamos las categorías\n",
    "for col in categorical_vars:\n",
    "    print(data_ml[col].value_counts())"
   ]
  },
  {
   "cell_type": "markdown",
   "metadata": {},
   "source": [
    "#### Aplicando encoding en las variables categóricas "
   ]
  },
  {
   "cell_type": "code",
   "execution_count": 26,
   "metadata": {},
   "outputs": [],
   "source": [
    "import sklearn\n",
    "#!pip install category_encoders\n",
    "import category_encoders as ce"
   ]
  },
  {
   "cell_type": "code",
   "execution_count": 27,
   "metadata": {},
   "outputs": [
    {
     "data": {
      "text/html": [
       "<div>\n",
       "<style scoped>\n",
       "    .dataframe tbody tr th:only-of-type {\n",
       "        vertical-align: middle;\n",
       "    }\n",
       "\n",
       "    .dataframe tbody tr th {\n",
       "        vertical-align: top;\n",
       "    }\n",
       "\n",
       "    .dataframe thead th {\n",
       "        text-align: right;\n",
       "    }\n",
       "</style>\n",
       "<table border=\"1\" class=\"dataframe\">\n",
       "  <thead>\n",
       "    <tr style=\"text-align: right;\">\n",
       "      <th></th>\n",
       "      <th>SREGION_1</th>\n",
       "      <th>SREGION_2</th>\n",
       "      <th>SREGION_3</th>\n",
       "      <th>SREGION_4</th>\n",
       "      <th>S108N_1</th>\n",
       "      <th>S108N_2</th>\n",
       "      <th>S108N_3</th>\n",
       "      <th>S108N_4</th>\n",
       "      <th>S119_1</th>\n",
       "      <th>S119_2</th>\n",
       "      <th>...</th>\n",
       "      <th>V501_1</th>\n",
       "      <th>V501_2</th>\n",
       "      <th>V501_3</th>\n",
       "      <th>V501_4</th>\n",
       "      <th>V501_5</th>\n",
       "      <th>V501_6</th>\n",
       "      <th>V714_1</th>\n",
       "      <th>V714_2</th>\n",
       "      <th>V714_3</th>\n",
       "      <th>y</th>\n",
       "    </tr>\n",
       "  </thead>\n",
       "  <tbody>\n",
       "    <tr>\n",
       "      <th>0</th>\n",
       "      <td>1</td>\n",
       "      <td>0</td>\n",
       "      <td>0</td>\n",
       "      <td>0</td>\n",
       "      <td>1</td>\n",
       "      <td>0</td>\n",
       "      <td>0</td>\n",
       "      <td>0</td>\n",
       "      <td>1</td>\n",
       "      <td>0</td>\n",
       "      <td>...</td>\n",
       "      <td>1</td>\n",
       "      <td>0</td>\n",
       "      <td>0</td>\n",
       "      <td>0</td>\n",
       "      <td>0</td>\n",
       "      <td>0</td>\n",
       "      <td>1</td>\n",
       "      <td>0</td>\n",
       "      <td>0</td>\n",
       "      <td>0.0</td>\n",
       "    </tr>\n",
       "    <tr>\n",
       "      <th>1</th>\n",
       "      <td>1</td>\n",
       "      <td>0</td>\n",
       "      <td>0</td>\n",
       "      <td>0</td>\n",
       "      <td>1</td>\n",
       "      <td>0</td>\n",
       "      <td>0</td>\n",
       "      <td>0</td>\n",
       "      <td>1</td>\n",
       "      <td>0</td>\n",
       "      <td>...</td>\n",
       "      <td>0</td>\n",
       "      <td>1</td>\n",
       "      <td>0</td>\n",
       "      <td>0</td>\n",
       "      <td>0</td>\n",
       "      <td>0</td>\n",
       "      <td>0</td>\n",
       "      <td>1</td>\n",
       "      <td>0</td>\n",
       "      <td>&lt;NA&gt;</td>\n",
       "    </tr>\n",
       "    <tr>\n",
       "      <th>2</th>\n",
       "      <td>1</td>\n",
       "      <td>0</td>\n",
       "      <td>0</td>\n",
       "      <td>0</td>\n",
       "      <td>0</td>\n",
       "      <td>1</td>\n",
       "      <td>0</td>\n",
       "      <td>0</td>\n",
       "      <td>1</td>\n",
       "      <td>0</td>\n",
       "      <td>...</td>\n",
       "      <td>0</td>\n",
       "      <td>1</td>\n",
       "      <td>0</td>\n",
       "      <td>0</td>\n",
       "      <td>0</td>\n",
       "      <td>0</td>\n",
       "      <td>1</td>\n",
       "      <td>0</td>\n",
       "      <td>0</td>\n",
       "      <td>1.0</td>\n",
       "    </tr>\n",
       "    <tr>\n",
       "      <th>3</th>\n",
       "      <td>1</td>\n",
       "      <td>0</td>\n",
       "      <td>0</td>\n",
       "      <td>0</td>\n",
       "      <td>1</td>\n",
       "      <td>0</td>\n",
       "      <td>0</td>\n",
       "      <td>0</td>\n",
       "      <td>1</td>\n",
       "      <td>0</td>\n",
       "      <td>...</td>\n",
       "      <td>1</td>\n",
       "      <td>0</td>\n",
       "      <td>0</td>\n",
       "      <td>0</td>\n",
       "      <td>0</td>\n",
       "      <td>0</td>\n",
       "      <td>1</td>\n",
       "      <td>0</td>\n",
       "      <td>0</td>\n",
       "      <td>&lt;NA&gt;</td>\n",
       "    </tr>\n",
       "    <tr>\n",
       "      <th>4</th>\n",
       "      <td>1</td>\n",
       "      <td>0</td>\n",
       "      <td>0</td>\n",
       "      <td>0</td>\n",
       "      <td>0</td>\n",
       "      <td>0</td>\n",
       "      <td>1</td>\n",
       "      <td>0</td>\n",
       "      <td>1</td>\n",
       "      <td>0</td>\n",
       "      <td>...</td>\n",
       "      <td>0</td>\n",
       "      <td>0</td>\n",
       "      <td>1</td>\n",
       "      <td>0</td>\n",
       "      <td>0</td>\n",
       "      <td>0</td>\n",
       "      <td>0</td>\n",
       "      <td>1</td>\n",
       "      <td>0</td>\n",
       "      <td>&lt;NA&gt;</td>\n",
       "    </tr>\n",
       "  </tbody>\n",
       "</table>\n",
       "<p>5 rows × 29 columns</p>\n",
       "</div>"
      ],
      "text/plain": [
       "   SREGION_1  SREGION_2  SREGION_3  SREGION_4  S108N_1  S108N_2  S108N_3  \\\n",
       "0          1          0          0          0        1        0        0   \n",
       "1          1          0          0          0        1        0        0   \n",
       "2          1          0          0          0        0        1        0   \n",
       "3          1          0          0          0        1        0        0   \n",
       "4          1          0          0          0        0        0        1   \n",
       "\n",
       "   S108N_4  S119_1  S119_2  ...  V501_1  V501_2  V501_3  V501_4  V501_5  \\\n",
       "0        0       1       0  ...       1       0       0       0       0   \n",
       "1        0       1       0  ...       0       1       0       0       0   \n",
       "2        0       1       0  ...       0       1       0       0       0   \n",
       "3        0       1       0  ...       1       0       0       0       0   \n",
       "4        0       1       0  ...       0       0       1       0       0   \n",
       "\n",
       "   V501_6  V714_1  V714_2  V714_3     y  \n",
       "0       0       1       0       0   0.0  \n",
       "1       0       0       1       0  <NA>  \n",
       "2       0       1       0       0   1.0  \n",
       "3       0       1       0       0  <NA>  \n",
       "4       0       0       1       0  <NA>  \n",
       "\n",
       "[5 rows x 29 columns]"
      ]
     },
     "execution_count": 27,
     "metadata": {},
     "output_type": "execute_result"
    }
   ],
   "source": [
    "ce_OHE = ce.OneHotEncoder(cols=categorical_vars)\n",
    "\n",
    "data_final = ce_OHE.fit_transform(data_ml)\n",
    "data_final.head()"
   ]
  },
  {
   "cell_type": "code",
   "execution_count": 28,
   "metadata": {},
   "outputs": [
    {
     "data": {
      "text/plain": [
       "Index(['SREGION_1', 'SREGION_2', 'SREGION_3', 'SREGION_4', 'S108N_1',\n",
       "       'S108N_2', 'S108N_3', 'S108N_4', 'S119_1', 'S119_2', 'S119_3',\n",
       "       'S119D_1', 'S119D_2', 'S119D_3', 'S119D_4', 'S119D_5', 'S119D_6',\n",
       "       'V213_1', 'V213_2', 'V501_1', 'V501_2', 'V501_3', 'V501_4', 'V501_5',\n",
       "       'V501_6', 'V714_1', 'V714_2', 'V714_3', 'y'],\n",
       "      dtype='object')"
      ]
     },
     "execution_count": 28,
     "metadata": {},
     "output_type": "execute_result"
    }
   ],
   "source": [
    "data_final.columns"
   ]
  },
  {
   "cell_type": "markdown",
   "metadata": {},
   "source": [
    "#### Aplicando modelo de ML"
   ]
  },
  {
   "cell_type": "code",
   "execution_count": 29,
   "metadata": {},
   "outputs": [],
   "source": [
    "from sklearn.linear_model import *\n",
    "from sklearn.pipeline import *\n",
    "from sklearn.model_selection import train_test_split, GridSearchCV\n",
    "from sklearn.preprocessing import LabelEncoder\n",
    "from sklearn.pipeline import *"
   ]
  },
  {
   "cell_type": "code",
   "execution_count": 30,
   "metadata": {},
   "outputs": [],
   "source": [
    "#eliminamos los na de la variable target\n",
    "data_final2 = data_final[data_final['y'].notna()]"
   ]
  },
  {
   "cell_type": "code",
   "execution_count": 31,
   "metadata": {},
   "outputs": [
    {
     "data": {
      "text/plain": [
       "27803"
      ]
     },
     "execution_count": 31,
     "metadata": {},
     "output_type": "execute_result"
    }
   ],
   "source": [
    "len(data_final2)"
   ]
  },
  {
   "cell_type": "markdown",
   "metadata": {},
   "source": [
    "###### Secuencial"
   ]
  },
  {
   "cell_type": "code",
   "execution_count": 32,
   "metadata": {},
   "outputs": [
    {
     "name": "stdout",
     "output_type": "stream",
     "text": [
      "Number of records: 27803\n"
     ]
    },
    {
     "data": {
      "text/html": [
       "<div>\n",
       "<style scoped>\n",
       "    .dataframe tbody tr th:only-of-type {\n",
       "        vertical-align: middle;\n",
       "    }\n",
       "\n",
       "    .dataframe tbody tr th {\n",
       "        vertical-align: top;\n",
       "    }\n",
       "\n",
       "    .dataframe thead th {\n",
       "        text-align: right;\n",
       "    }\n",
       "</style>\n",
       "<table border=\"1\" class=\"dataframe\">\n",
       "  <thead>\n",
       "    <tr style=\"text-align: right;\">\n",
       "      <th></th>\n",
       "      <th>SREGION_1</th>\n",
       "      <th>SREGION_2</th>\n",
       "      <th>SREGION_3</th>\n",
       "      <th>SREGION_4</th>\n",
       "      <th>S108N_1</th>\n",
       "      <th>S108N_2</th>\n",
       "      <th>S108N_3</th>\n",
       "      <th>S108N_4</th>\n",
       "      <th>S119_1</th>\n",
       "      <th>S119_2</th>\n",
       "      <th>...</th>\n",
       "      <th>V501_1</th>\n",
       "      <th>V501_2</th>\n",
       "      <th>V501_3</th>\n",
       "      <th>V501_4</th>\n",
       "      <th>V501_5</th>\n",
       "      <th>V501_6</th>\n",
       "      <th>V714_1</th>\n",
       "      <th>V714_2</th>\n",
       "      <th>V714_3</th>\n",
       "      <th>y</th>\n",
       "    </tr>\n",
       "  </thead>\n",
       "  <tbody>\n",
       "    <tr>\n",
       "      <th>2</th>\n",
       "      <td>1</td>\n",
       "      <td>0</td>\n",
       "      <td>0</td>\n",
       "      <td>0</td>\n",
       "      <td>0</td>\n",
       "      <td>1</td>\n",
       "      <td>0</td>\n",
       "      <td>0</td>\n",
       "      <td>1</td>\n",
       "      <td>0</td>\n",
       "      <td>...</td>\n",
       "      <td>0</td>\n",
       "      <td>1</td>\n",
       "      <td>0</td>\n",
       "      <td>0</td>\n",
       "      <td>0</td>\n",
       "      <td>0</td>\n",
       "      <td>1</td>\n",
       "      <td>0</td>\n",
       "      <td>0</td>\n",
       "      <td>1.0</td>\n",
       "    </tr>\n",
       "    <tr>\n",
       "      <th>5</th>\n",
       "      <td>1</td>\n",
       "      <td>0</td>\n",
       "      <td>0</td>\n",
       "      <td>0</td>\n",
       "      <td>0</td>\n",
       "      <td>0</td>\n",
       "      <td>1</td>\n",
       "      <td>0</td>\n",
       "      <td>1</td>\n",
       "      <td>0</td>\n",
       "      <td>...</td>\n",
       "      <td>0</td>\n",
       "      <td>0</td>\n",
       "      <td>0</td>\n",
       "      <td>1</td>\n",
       "      <td>0</td>\n",
       "      <td>0</td>\n",
       "      <td>1</td>\n",
       "      <td>0</td>\n",
       "      <td>0</td>\n",
       "      <td>0.0</td>\n",
       "    </tr>\n",
       "    <tr>\n",
       "      <th>6</th>\n",
       "      <td>1</td>\n",
       "      <td>0</td>\n",
       "      <td>0</td>\n",
       "      <td>0</td>\n",
       "      <td>1</td>\n",
       "      <td>0</td>\n",
       "      <td>0</td>\n",
       "      <td>0</td>\n",
       "      <td>1</td>\n",
       "      <td>0</td>\n",
       "      <td>...</td>\n",
       "      <td>1</td>\n",
       "      <td>0</td>\n",
       "      <td>0</td>\n",
       "      <td>0</td>\n",
       "      <td>0</td>\n",
       "      <td>0</td>\n",
       "      <td>1</td>\n",
       "      <td>0</td>\n",
       "      <td>0</td>\n",
       "      <td>0.0</td>\n",
       "    </tr>\n",
       "    <tr>\n",
       "      <th>7</th>\n",
       "      <td>1</td>\n",
       "      <td>0</td>\n",
       "      <td>0</td>\n",
       "      <td>0</td>\n",
       "      <td>0</td>\n",
       "      <td>0</td>\n",
       "      <td>1</td>\n",
       "      <td>0</td>\n",
       "      <td>1</td>\n",
       "      <td>0</td>\n",
       "      <td>...</td>\n",
       "      <td>1</td>\n",
       "      <td>0</td>\n",
       "      <td>0</td>\n",
       "      <td>0</td>\n",
       "      <td>0</td>\n",
       "      <td>0</td>\n",
       "      <td>1</td>\n",
       "      <td>0</td>\n",
       "      <td>0</td>\n",
       "      <td>0.0</td>\n",
       "    </tr>\n",
       "  </tbody>\n",
       "</table>\n",
       "<p>4 rows × 29 columns</p>\n",
       "</div>"
      ],
      "text/plain": [
       "   SREGION_1  SREGION_2  SREGION_3  SREGION_4  S108N_1  S108N_2  S108N_3  \\\n",
       "2          1          0          0          0        0        1        0   \n",
       "5          1          0          0          0        0        0        1   \n",
       "6          1          0          0          0        1        0        0   \n",
       "7          1          0          0          0        0        0        1   \n",
       "\n",
       "   S108N_4  S119_1  S119_2  ...  V501_1  V501_2  V501_3  V501_4  V501_5  \\\n",
       "2        0       1       0  ...       0       1       0       0       0   \n",
       "5        0       1       0  ...       0       0       0       1       0   \n",
       "6        0       1       0  ...       1       0       0       0       0   \n",
       "7        0       1       0  ...       1       0       0       0       0   \n",
       "\n",
       "   V501_6  V714_1  V714_2  V714_3    y  \n",
       "2       0       1       0       0  1.0  \n",
       "5       0       1       0       0  0.0  \n",
       "6       0       1       0       0  0.0  \n",
       "7       0       1       0       0  0.0  \n",
       "\n",
       "[4 rows x 29 columns]"
      ]
     },
     "execution_count": 32,
     "metadata": {},
     "output_type": "execute_result"
    }
   ],
   "source": [
    "#Train-test splitting \n",
    "X_train, X_test, y_train, y_test = train_test_split(\n",
    "    data_final2.iloc[:,range(0,len(data_final2.columns)-1)],\n",
    "    data_final2['y'],\n",
    "    test_size=0.3,\n",
    "    random_state=175904)\n",
    "\n",
    "print(\"Number of records: %d\"%data_final2.shape[0])\n",
    "data_final2[1:5]"
   ]
  },
  {
   "cell_type": "code",
   "execution_count": 33,
   "metadata": {},
   "outputs": [
    {
     "name": "stdout",
     "output_type": "stream",
     "text": [
      "Wall time: 19.5 s\n"
     ]
    }
   ],
   "source": [
    "%%time \n",
    "#Definimos los parametros para correr el modelo lasso\n",
    "grid_params = { \n",
    "    \"lasso0__eps\": [1e-3, 1e-4, 1e-5],\n",
    "    \"lasso0__n_alphas\": [100, 250, 500]}\n",
    "\n",
    "#corremos el lasso\n",
    "lasso0 = LassoCV(max_iter=1000, n_alphas=300, n_jobs=15, random_state=175904)\n",
    "\n",
    "#definimos el pipeline de lasso\n",
    "pipe0  = Pipeline([(\"lasso0\", lasso0)])\n",
    "\n",
    "#seleccionamos el grid search usando cross validation\n",
    "grid = GridSearchCV(estimator=pipe0, \n",
    "                    param_grid=grid_params, \n",
    "                    n_jobs=15, scoring=\"neg_mean_squared_error\")\n",
    "\n",
    "#fit del modelo\n",
    "gridm = grid.fit(X_train, y_train)"
   ]
  },
  {
   "cell_type": "code",
   "execution_count": 34,
   "metadata": {},
   "outputs": [
    {
     "name": "stdout",
     "output_type": "stream",
     "text": [
      "Score: -0.203793 with metric 'neg_mean_squared_error'\n",
      "The best parameters are: {'lasso0__eps': 0.001, 'lasso0__n_alphas': 100}\n"
     ]
    }
   ],
   "source": [
    "#print de las métricas del grid search\n",
    "print(\"Score: %f with metric '%s'\\nThe best parameters are: %s\"%(\n",
    "    gridm.score(X_test, y_test), \n",
    "    grid.scoring,\n",
    "    gridm.best_params_))"
   ]
  },
  {
   "cell_type": "code",
   "execution_count": 35,
   "metadata": {},
   "outputs": [
    {
     "name": "stdout",
     "output_type": "stream",
     "text": [
      "Wall time: 2.99 ms\n"
     ]
    },
    {
     "data": {
      "text/plain": [
       "array([0.21711814, 0.65727759, 0.19576371, ..., 0.35043083, 0.3766837 ,\n",
       "       0.33217405])"
      ]
     },
     "execution_count": 35,
     "metadata": {},
     "output_type": "execute_result"
    }
   ],
   "source": [
    "%%time\n",
    "#predicción \n",
    "gridm.predict(X_test)"
   ]
  },
  {
   "cell_type": "markdown",
   "metadata": {},
   "source": [
    "###### Paralelo"
   ]
  },
  {
   "cell_type": "code",
   "execution_count": 36,
   "metadata": {},
   "outputs": [],
   "source": [
    "#Train-test splitting  usando dask\n",
    "dX_train, dX_test, dy_train, dy_test = (\n",
    "    dd.from_pandas(X_train, npartitions=3),\n",
    "    dd.from_pandas(X_test, npartitions=3),\n",
    "    dd.from_pandas(y_train, npartitions=3),\n",
    "    dd.from_pandas(y_test, npartitions=3)\n",
    ")"
   ]
  },
  {
   "cell_type": "code",
   "execution_count": 37,
   "metadata": {},
   "outputs": [],
   "source": [
    "import dask_ml.model_selection as dms\n",
    "#!pip install dask-ml"
   ]
  },
  {
   "cell_type": "code",
   "execution_count": 38,
   "metadata": {},
   "outputs": [
    {
     "name": "stdout",
     "output_type": "stream",
     "text": [
      "Wall time: 12.1 s\n"
     ]
    }
   ],
   "source": [
    "%%time \n",
    "#Definimos los parametros para correr el modelo lasso\n",
    "grid_params = { \n",
    "    \"lasso0__eps\": [1e-3, 1e-4, 1e-5],\n",
    "    \"lasso0__n_alphas\": [100, 250, 500]}\n",
    "\n",
    "#corremos el lasso\n",
    "lasso0 = LassoCV(max_iter=1000, n_alphas=300, n_jobs=15, random_state=175904)\n",
    "\n",
    "#definimos el pipeline de lasso\n",
    "pipe0  = Pipeline([(\"lasso0\", lasso0)])\n",
    "\n",
    "#seleccionamos el grid search usando cross validation y usando dask\n",
    "dgrid = dms.GridSearchCV(estimator=pipe0, \n",
    "                    param_grid=grid_params, \n",
    "                    n_jobs=15, scoring=\"neg_mean_squared_error\")\n",
    "\n",
    "#fit del modelo usando dask\n",
    "dgridm = dgrid.fit(dX_train, dy_train)"
   ]
  },
  {
   "cell_type": "code",
   "execution_count": 39,
   "metadata": {},
   "outputs": [
    {
     "name": "stdout",
     "output_type": "stream",
     "text": [
      "Wall time: 1.01 s\n"
     ]
    },
    {
     "data": {
      "text/plain": [
       "array([0.64487621, 0.33497753, 0.22099631, ..., 0.28828227, 0.26217896,\n",
       "       0.36648363])"
      ]
     },
     "execution_count": 39,
     "metadata": {},
     "output_type": "execute_result"
    }
   ],
   "source": [
    "%%time\n",
    "#predicción usando dask\n",
    "y_hat = dX_test.map_partitions(dgridm.predict)\n",
    "y_hat.compute()"
   ]
  },
  {
   "cell_type": "markdown",
   "metadata": {},
   "source": [
    "#### Limitaciones y posibles extensiones"
   ]
  },
  {
   "cell_type": "markdown",
   "metadata": {},
   "source": [
    "En cuanto a las limitaciones:\n",
    "- A pesar de que inicialmente se planteaba utilizar variables predictoras de distintos módulos, al final, se han considerado un reducido número de predictores. Esto debido a que surgieron dificultades con el kernel de python al cargar bases de datos extensas.\n",
    "- Se ha utilizado un modelo básico de predicción, dado la naturaleza del ejercicio. \n",
    "- Nuestro modelo lasso utilizado considera distintas interacciones entre los predictores. Sin embargo, no todas estas pueden ser interpretadas debido a la complejidad de su composición. \n",
    "\n",
    "En cuanto a posibles extensiones:\n",
    "\n",
    "- Se propone extender el estudio a utilizar un modelo de double lasso o modelos de ML más precisos como redes neuronales.\n",
    "- También se podrían utilizar un mayor número de predictores. Para esto, se utilizarían otros módulos más de la ENDES."
   ]
  }
 ],
 "metadata": {
  "kernelspec": {
   "display_name": "Python 3",
   "language": "python",
   "name": "python3"
  },
  "language_info": {
   "codemirror_mode": {
    "name": "ipython",
    "version": 3
   },
   "file_extension": ".py",
   "mimetype": "text/x-python",
   "name": "python",
   "nbconvert_exporter": "python",
   "pygments_lexer": "ipython3",
   "version": "3.8.5"
  }
 },
 "nbformat": 4,
 "nbformat_minor": 5
}

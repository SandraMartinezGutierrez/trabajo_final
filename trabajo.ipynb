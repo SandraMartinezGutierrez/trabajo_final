{
 "cells": [
  {
   "cell_type": "code",
   "execution_count": 1,
   "metadata": {},
   "outputs": [],
   "source": [
    "import pandas as pd\n",
    "import numpy as np\n",
    "import pyreadr\n",
    "import math\n",
    "import random\n",
    "import os\n",
    "import csv\n",
    "\n",
    "from sklearn.preprocessing import PolynomialFeatures\n",
    "from sklearn.linear_model import LinearRegression\n",
    "from sklearn.model_selection import train_test_split,cross_val_score\n",
    "from sklearn.metrics import mean_squared_error\n",
    "\n",
    "import matplotlib.pyplot as plt\n",
    "import seaborn as sns\n",
    "\n",
    "import warnings\n",
    "warnings.filterwarnings(\"ignore\")\n",
    "\n",
    "import os\n",
    "import time"
   ]
  },
  {
   "cell_type": "markdown",
   "metadata": {},
   "source": [
    "## Parte I"
   ]
  },
  {
   "cell_type": "markdown",
   "metadata": {},
   "source": [
    "### Pregunta 1"
   ]
  },
  {
   "cell_type": "markdown",
   "metadata": {},
   "source": [
    "| Marca – modelo | Precio ($) | Bus Memoria | Memoria | Velocidad de Boost (memoria) | Velocidad Game | Velocidad Bandwidth |\n",
    "| --- | --- | --- | --- | --- | --- | --- |\n",
    "| MSI Radeon  | 515 | 128 bits | 8GB GDDR6 | 2602 MHz | 2413 MHz |  | \n",
    "| RX 6600 XT |       |         |           |         |          |           |\n",
    "| BIOSTAR RADEON RX560  | 515 | 128 bits | 4GB DDR5 | 1175 MHz | 1275MHz |  |\n",
    "| PNY GEFORCE RTX 3060 | 550 | 192 bits | 12GB GDDR6 | 1777 MHz |  | 360 GB | "
   ]
  },
  {
   "cell_type": "markdown",
   "metadata": {},
   "source": [
    "Fuentes:\n",
    "- https://cyccomputer.pe/amd-radeon/21256-msi-radeon-rx-6600-xt-mech-2x-8gb-gddr6-128bits-oc-pn912-v502-015.html\n",
    "- https://cyccomputer.pe/amd-radeon/20821-biostar-radeon-rx560-4gb-ddr5-128bits-gaming-pnva5615rf41-tbhra-bs2.html\n",
    "- https://cyccomputer.pe/nvidia-geforce-rtx/21359-pny-geforce-rtx-3060-12gb-gddr6-192bits-xlr8-gaming-oem-pngmr3061n4jcet1bktp.html"
   ]
  },
  {
   "cell_type": "markdown",
   "metadata": {},
   "source": [
    "Para realizar computación en paralelo, la mejor opción a tomar en cuenta es la MSI Radeon; ya que, cuesta un poco menos que la PNY y tiene varias ventajas, entre estas se tiene que la MSI posee un mayor rendimiento en velocidad de reloj del procesador y de memoria GPU, a pesar de que se está sacrificando un poco de potencia en el procesamiento de la GPU, lo que permite un rendimiento superior para la ejecución de computación en paralelo. \n",
    "\n",
    "Por otra parte, la MSI supera en velocidad de la memoria a los otros modelos, con lo cual se incrementa el rendimiento en aplicaciones ya que tienen mayores registros de velocidad a diferencia de la PNY. También, se puede atribuir a ambas un similar funcionamiento de las tarjetas gráficas, ya que ambas poseen una misma anchura del bus de memoria, con lo cual tienen similar capacidad de soportar más datos por ciclo. Finalmente, se puede concluir que la MSI debería ser la tarjeta gráfica por elegir, ya que tiene un precio no muy distante de la PNY y tiene varias características a favor.\n"
   ]
  },
  {
   "cell_type": "markdown",
   "metadata": {},
   "source": [
    "### Pregunta 2"
   ]
  },
  {
   "cell_type": "markdown",
   "metadata": {},
   "source": [
    "Good Data no será reemplazado por Big Data o viceversa, ya que la estructura para obtener la información es diferente. Incluso en Couper (2013) se menciona que las nuevas formas de obtener data son interesantes, pero no se debe descartar los métodos tradicionales como las encuestas. Sin embargo, si se pueden complementar porque ambas forman parte de las herramientas que usa la ciencia de datos para inferir sobre la realidad. O como señala Ng (2022) se debería buscar tener datos de mejor calidad que partan por una selección basada en big data y las técnicas de IA correspondiente que permita mejorar la selección de pequeños datos.\n",
    "\n",
    "Como ejemplo, se puede entender la información que proviene de las encuestas, ya que son una herramienta potente para levantar información y entender el mundo real, aunque no es la única herramienta. En Couper (2013) se llama una trampa a la idea de pensar que solo las encuestas nos ofrecen la mejor manera de recopilar información. De ahí resulta el Big Data y su facilidad para obtener los datos, los mismos que deben ser parte de un aprendizaje previo y ese redondeo al promedio conocido. Aplicado a la realidad que acabamos de pasar, es el uso de big data por el COVID-19, que finalmente dio lugar a Good data, pues permitió crear modelos de aprendizaje automático referente a trazabilidad del virus u otras aplicaciones de mejora de modelos epidemiológicos.\n",
    "\n",
    "Otro ejemplo, las empresas en todo el mundo han desbordado sus bancos de datos y se han convertido en big data. Desde las cuentas de redes sociales hasta la cadena de suministro y los datos de gastos, las empresas tienen un acceso ilimitado. Pero con más información no necesariamente mejora la calidad del análisis, ya que la recopilación de datos es solo el primer paso. La gestión de datos, junto con el análisis de big data, lo ayudará a extraer los datos útiles y relevantes de las grandes cantidades de información disponible, y ponerlos en uso para generar valor y productividad para su negocio. Esto último es un claro ejemplo de good data."
   ]
  },
  {
   "cell_type": "markdown",
   "metadata": {},
   "source": [
    "### Pregunta 3"
   ]
  },
  {
   "cell_type": "markdown",
   "metadata": {},
   "source": [
    "Al momento de importar nuestra base de datos, nuestras variables fueron importadas como de tipo 'O'. Inicialmente, tratamos de convertirlas en numéricas para poder realizar cálculos. Sin embargo, tuvimos dificultades realizando ello. Por ende, publicamos nuestro problema en Stackoverflow."
   ]
  },
  {
   "cell_type": "markdown",
   "metadata": {},
   "source": [
    "https://stackoverflow.com/questions/72828144/how-can-i-convert-an-object-variable-with-nan-into-an-int-variable-in-python"
   ]
  },
  {
   "cell_type": "markdown",
   "metadata": {},
   "source": [
    "## Parte II"
   ]
  },
  {
   "cell_type": "markdown",
   "metadata": {},
   "source": [
    "### Pregunta 1"
   ]
  },
  {
   "cell_type": "code",
   "execution_count": null,
   "metadata": {},
   "outputs": [],
   "source": []
  },
  {
   "cell_type": "markdown",
   "metadata": {},
   "source": [
    "### Pregunta 2"
   ]
  },
  {
   "cell_type": "code",
   "execution_count": null,
   "metadata": {},
   "outputs": [],
   "source": []
  },
  {
   "cell_type": "markdown",
   "metadata": {},
   "source": [
    "### Pregunta 3"
   ]
  },
  {
   "cell_type": "code",
   "execution_count": null,
   "metadata": {},
   "outputs": [],
   "source": []
  },
  {
   "cell_type": "markdown",
   "metadata": {},
   "source": [
    "### Pregunta 4"
   ]
  },
  {
   "cell_type": "markdown",
   "metadata": {},
   "source": [
    "### Parte a"
   ]
  },
  {
   "cell_type": "markdown",
   "metadata": {},
   "source": [
    "Primero, importamos los archivos archivos CSV que tenemos en la carpeta data"
   ]
  },
  {
   "cell_type": "code",
   "execution_count": 7,
   "metadata": {},
   "outputs": [
    {
     "name": "stdout",
     "output_type": "stream",
     "text": [
      "Files and directories in a specified path:\n",
      "data\\endes_2021_programas_sociales_hogar.csv\n",
      "data\\endes_2021_RE223132.csv\n",
      "data\\endes_2021_RE516171.csv\n",
      "data\\endes_2021_RE758081.csv\n",
      "data\\endes_2021_REC84DV.csv\n",
      "data\\endes_2021_REC91.csv\n",
      "data\\endes_2021_REC93DVdisciplina.csv\n",
      "data\\endes_2021_REC95.csv\n",
      "data\\endes_2021_RECH23.csv\n",
      "Wall time: 4.99 ms\n"
     ]
    }
   ],
   "source": [
    "%%time \n",
    "\n",
    "# En folderpath, se debe cambia el path en donde se encuentren los archivos CSV\n",
    "folderpath =  r\"data\"\n",
    "print(\"Files and directories in a specified path:\")\n",
    "files = []\n",
    "for filename in os.listdir(folderpath):\n",
    "    f = os.path.join(folderpath, filename)\n",
    "    files.append(f)\n",
    "    if os.path.isfile(f):\n",
    "        print(f)"
   ]
  },
  {
   "cell_type": "markdown",
   "metadata": {},
   "source": [
    "#### Import csv using dask\n"
   ]
  },
  {
   "cell_type": "code",
   "execution_count": 4,
   "metadata": {
    "scrolled": true
   },
   "outputs": [
    {
     "data": {
      "text/html": [
       "<table style=\"border: 2px solid white;\">\n",
       "<tr>\n",
       "<td style=\"vertical-align: top; border: 0px solid white\">\n",
       "<h3 style=\"text-align: left;\">Client</h3>\n",
       "<ul style=\"text-align: left; list-style: none; margin: 0; padding: 0;\">\n",
       "  <li><b>Scheduler: </b>tcp://127.0.0.1:54276</li>\n",
       "  <li><b>Dashboard: </b><a href='http://127.0.0.1:8787/status' target='_blank'>http://127.0.0.1:8787/status</a></li>\n",
       "</ul>\n",
       "</td>\n",
       "<td style=\"vertical-align: top; border: 0px solid white\">\n",
       "<h3 style=\"text-align: left;\">Cluster</h3>\n",
       "<ul style=\"text-align: left; list-style:none; margin: 0; padding: 0;\">\n",
       "  <li><b>Workers: </b>4</li>\n",
       "  <li><b>Cores: </b>8</li>\n",
       "  <li><b>Memory: </b>12.68 GB</li>\n",
       "</ul>\n",
       "</td>\n",
       "</tr>\n",
       "</table>"
      ],
      "text/plain": [
       "<Client: 'tcp://127.0.0.1:54276' processes=4 threads=8, memory=12.68 GB>"
      ]
     },
     "execution_count": 4,
     "metadata": {},
     "output_type": "execute_result"
    }
   ],
   "source": [
    "from dask.distributed import Client, LocalCluster\n",
    "cluster = LocalCluster()  # Launches a scheduler and workers locally\n",
    "client = Client(cluster)  # Connect to distributed cluster and override default\n",
    "client"
   ]
  },
  {
   "cell_type": "code",
   "execution_count": 5,
   "metadata": {},
   "outputs": [],
   "source": [
    "import dask.dataframe as dd"
   ]
  },
  {
   "cell_type": "code",
   "execution_count": 8,
   "metadata": {},
   "outputs": [],
   "source": [
    "#guardamos los dask dataframes en una lista\n",
    "dfs = []\n",
    "\n",
    "for file in files:\n",
    "    \n",
    "    df = dd.read_csv(file, dtype=str)\n",
    "    dfs.append(df)"
   ]
  },
  {
   "cell_type": "code",
   "execution_count": 9,
   "metadata": {},
   "outputs": [],
   "source": [
    "#asignamos nombres a los dataframes\n",
    "programas_sociales = dfs[0]\n",
    "nacimiento = dfs[1]\n",
    "nupcialidad_fecundidad = dfs[2]\n",
    "sida_condon = dfs[3]\n",
    "mortalidad_violencia = dfs[4]\n",
    "MEF = dfs[5] \n",
    "disciplina_infantil = dfs[6]\n",
    "inmunizacion_salud = dfs[7]\n",
    "vivienda = dfs[8]"
   ]
  },
  {
   "cell_type": "code",
   "execution_count": 10,
   "metadata": {},
   "outputs": [
    {
     "name": "stdout",
     "output_type": "stream",
     "text": [
      "nacimiento\n",
      "nupcialidad_fecundidad\n",
      "sida_condon\n",
      "mortalidad_violencia\n",
      "MEF\n",
      "disciplina_infantil\n",
      "inmunizacion_salud\n"
     ]
    }
   ],
   "source": [
    "# identificar bases que tengan CASEID\n",
    "df_list = [programas_sociales, nacimiento, nupcialidad_fecundidad, sida_condon, mortalidad_violencia, MEF, disciplina_infantil,\n",
    "          inmunizacion_salud,vivienda]\n",
    "\n",
    "df_list_names = [\"programas_sociales\", \"nacimiento\", \"nupcialidad_fecundidad\", \"sida_condon\", \"mortalidad_violencia\", \"MEF\", \"disciplina_infantil\",\n",
    "          \"inmunizacion_salud\",\"vivienda\"]\n",
    "\n",
    "df_CASEID = []\n",
    "\n",
    "for df, df_name in zip(df_list,df_list_names):\n",
    "       \n",
    "    if 'CASEID' in df.columns:\n",
    "        print(df_name)\n",
    "        \n",
    "        df_CASEID.append(df)"
   ]
  },
  {
   "cell_type": "markdown",
   "metadata": {},
   "source": [
    "#### Merging dfs"
   ]
  },
  {
   "cell_type": "code",
   "execution_count": 11,
   "metadata": {},
   "outputs": [],
   "source": [
    "base_total = nacimiento.merge(nupcialidad_fecundidad, on = ['CASEID', 'ID1'], how ='left').merge(sida_condon, on = ['CASEID', 'ID1'], how ='left').merge(mortalidad_violencia, on = ['CASEID', 'ID1'], how ='left').merge(MEF, on = ['CASEID', 'ID1'], how ='left').merge(disciplina_infantil, on = ['CASEID', 'ID1'], how ='left').merge(inmunizacion_salud, on = ['CASEID', 'ID1'], how ='left')"
   ]
  },
  {
   "cell_type": "code",
   "execution_count": 13,
   "metadata": {},
   "outputs": [],
   "source": [
    "df_final = base_total.compute()"
   ]
  },
  {
   "cell_type": "code",
   "execution_count": 14,
   "metadata": {
    "scrolled": true
   },
   "outputs": [
    {
     "data": {
      "text/plain": [
       "ID1         object\n",
       "CASEID      object\n",
       "V201        object\n",
       "V202        object\n",
       "V203        object\n",
       "             ...  \n",
       "S466DC12    object\n",
       "S466MC12    object\n",
       "S466YC12    object\n",
       "S466WC12    object\n",
       "S466HC12    object\n",
       "Length: 1272, dtype: object"
      ]
     },
     "execution_count": 14,
     "metadata": {},
     "output_type": "execute_result"
    }
   ],
   "source": [
    "df_final.dtypes"
   ]
  },
  {
   "cell_type": "code",
   "execution_count": 15,
   "metadata": {},
   "outputs": [
    {
     "name": "stdout",
     "output_type": "stream",
     "text": [
      "Wall time: 673 ms\n"
     ]
    },
    {
     "data": {
      "text/plain": [
       "(43137, 27)"
      ]
     },
     "execution_count": 15,
     "metadata": {},
     "output_type": "execute_result"
    }
   ],
   "source": [
    "%%time \n",
    "\n",
    "# Seleccionando las variables de interés \n",
    "variables = ['ID1', 'SREGION', 'SPROVIN', 'SDISTRI', 'CASEID',\n",
    "             'S108N', 'S119', 'S119D', 'V218', 'V213', 'V225',    # carac. personales\n",
    "             'S45D4', 'S45D5', 'S45P4', 'S45P5', 'S45B0',    # vacunas\n",
    "             'S45B1', 'S45B2', 'S45B3', 'S45F1', 'S45F2',    # vacunas\n",
    "             'V501', 'V714', 'D104', 'D106', 'D107', 'D108']\n",
    "\n",
    "data_final = df_final[variables]\n",
    "data_final.shape"
   ]
  },
  {
   "cell_type": "code",
   "execution_count": 16,
   "metadata": {},
   "outputs": [],
   "source": [
    "for i in variables:\n",
    "        if data_final[i].dtype == 'O':\n",
    "            data_final[i] = data_final[i].str.replace(\" \", \"\")\n",
    "            # Reemplazando los missing values por NaN\n",
    "            data_final[i] = data_final[i].replace(' ', np.nan)\n",
    "\n",
    "            # Convirtiendo los datos a valores numéricos\n",
    "            data_final[i] =  np.floor(pd.to_numeric(data_final[i], errors='coerce').astype('Int64'))"
   ]
  },
  {
   "cell_type": "code",
   "execution_count": 17,
   "metadata": {},
   "outputs": [
    {
     "data": {
      "text/plain": [
       "ID1        Float64\n",
       "SREGION    Float64\n",
       "SPROVIN    Float64\n",
       "SDISTRI    Float64\n",
       "CASEID     Float64\n",
       "S108N      Float64\n",
       "S119       Float64\n",
       "S119D      Float64\n",
       "V218       Float64\n",
       "V213       Float64\n",
       "V225       Float64\n",
       "S45D4      Float64\n",
       "S45D5      Float64\n",
       "S45P4      Float64\n",
       "S45P5      Float64\n",
       "S45B0      Float64\n",
       "S45B1      Float64\n",
       "S45B2      Float64\n",
       "S45B3      Float64\n",
       "S45F1      Float64\n",
       "S45F2      Float64\n",
       "V501       Float64\n",
       "V714       Float64\n",
       "D104       Float64\n",
       "D106       Float64\n",
       "D107       Float64\n",
       "D108       Float64\n",
       "dtype: object"
      ]
     },
     "execution_count": 17,
     "metadata": {},
     "output_type": "execute_result"
    }
   ],
   "source": [
    "data_final.dtypes"
   ]
  },
  {
   "cell_type": "markdown",
   "metadata": {},
   "source": [
    "#### Creación de por lo menos dos variables"
   ]
  },
  {
   "cell_type": "markdown",
   "metadata": {},
   "source": [
    "*Las variables de interés son las siguientes:*\n",
    "\n",
    "D104: Hubo violencia emocional | 0=No, 1=Sí\n",
    "\n",
    "D106: Experimentó cualquier violencia física menos severa | 0=No, 1=Sí\n",
    "\n",
    "D107: Experimentó cualquier violencia física severa | 0=No, 1=Sí\n",
    "\n",
    "D108: Experimentó cualquier violencia sexual | 0=No, 1=Sí\n",
    "\n"
   ]
  },
  {
   "cell_type": "markdown",
   "metadata": {},
   "source": [
    "1) Creamos una variable que indique la cantidad de tipos de violencia (emocional, física menos severa, física severa, sexual) que la mujer ha sido víctima por parte de su esposo/compañero. Esta variable está en el rango de 0 a 4."
   ]
  },
  {
   "cell_type": "code",
   "execution_count": 20,
   "metadata": {},
   "outputs": [],
   "source": [
    "# Agregando los datos para evaluar cuántas mujeres han sido víctimas de violencia en al menos una de sus modalidades\n",
    "data_final['violencia'] = data_final['D104'] + data_final['D106'] + data_final['D107'] + data_final['D108']"
   ]
  },
  {
   "cell_type": "markdown",
   "metadata": {},
   "source": [
    "2) Creamos una variable dicotómica que indique si es que la mujer ha sido víctima de, al menos, un tipo de violencia por parte de su esposo/compañero"
   ]
  },
  {
   "cell_type": "code",
   "execution_count": 21,
   "metadata": {},
   "outputs": [],
   "source": [
    "# Creando variable dummy \n",
    "data_final['y'] = data_final['violencia']\n",
    "data_final.loc[(data_final['y'] > 0), 'y'] = 1"
   ]
  },
  {
   "cell_type": "markdown",
   "metadata": {},
   "source": [
    "#### Dos estadísticos descriptivos "
   ]
  },
  {
   "cell_type": "code",
   "execution_count": 39,
   "metadata": {},
   "outputs": [
    {
     "data": {
      "text/html": [
       "<div>\n",
       "<style scoped>\n",
       "    .dataframe tbody tr th:only-of-type {\n",
       "        vertical-align: middle;\n",
       "    }\n",
       "\n",
       "    .dataframe tbody tr th {\n",
       "        vertical-align: top;\n",
       "    }\n",
       "\n",
       "    .dataframe thead th {\n",
       "        text-align: right;\n",
       "    }\n",
       "</style>\n",
       "<table border=\"1\" class=\"dataframe\">\n",
       "  <thead>\n",
       "    <tr style=\"text-align: right;\">\n",
       "      <th></th>\n",
       "      <th>n_violencia</th>\n",
       "      <th>n_casos</th>\n",
       "      <th>%</th>\n",
       "    </tr>\n",
       "  </thead>\n",
       "  <tbody>\n",
       "    <tr>\n",
       "      <th>0</th>\n",
       "      <td>0</td>\n",
       "      <td>18395</td>\n",
       "      <td>66.16</td>\n",
       "    </tr>\n",
       "    <tr>\n",
       "      <th>1</th>\n",
       "      <td>1</td>\n",
       "      <td>4372</td>\n",
       "      <td>15.72</td>\n",
       "    </tr>\n",
       "    <tr>\n",
       "      <th>2</th>\n",
       "      <td>2</td>\n",
       "      <td>2621</td>\n",
       "      <td>9.43</td>\n",
       "    </tr>\n",
       "    <tr>\n",
       "      <th>3</th>\n",
       "      <td>3</td>\n",
       "      <td>1598</td>\n",
       "      <td>5.75</td>\n",
       "    </tr>\n",
       "    <tr>\n",
       "      <th>4</th>\n",
       "      <td>4</td>\n",
       "      <td>817</td>\n",
       "      <td>2.94</td>\n",
       "    </tr>\n",
       "  </tbody>\n",
       "</table>\n",
       "</div>"
      ],
      "text/plain": [
       "   n_violencia  n_casos      %\n",
       "0            0    18395  66.16\n",
       "1            1     4372  15.72\n",
       "2            2     2621   9.43\n",
       "3            3     1598   5.75\n",
       "4            4      817   2.94"
      ]
     },
     "execution_count": 39,
     "metadata": {},
     "output_type": "execute_result"
    }
   ],
   "source": [
    "tab1 = data_final['violencia'].value_counts().to_frame().reset_index()\n",
    "tab1.rename(columns = {'index':'n_violencia', 'violencia':'n_casos'}, inplace = True)\n",
    "tab1['n_violencia'] = tab1['n_violencia'].astype(int)\n",
    "\n",
    "tab1['%'] = round( (tab1['n_casos']/sum(tab1.n_casos))*100 , 2)\n",
    "tab1"
   ]
  },
  {
   "cell_type": "markdown",
   "metadata": {},
   "source": [
    "Se observa que el 66.16% de mujeres no sufren ningún tipo de violencia por parte de su esposo/compañero. Sin embargo, hay un 15.72% de mujeres que sufren 1 tipo de violencia. Se encuentra que solo el 2.94% de mujeres sufren los 4 tipos de violencia."
   ]
  },
  {
   "cell_type": "code",
   "execution_count": 42,
   "metadata": {},
   "outputs": [
    {
     "data": {
      "text/html": [
       "<div>\n",
       "<style scoped>\n",
       "    .dataframe tbody tr th:only-of-type {\n",
       "        vertical-align: middle;\n",
       "    }\n",
       "\n",
       "    .dataframe tbody tr th {\n",
       "        vertical-align: top;\n",
       "    }\n",
       "\n",
       "    .dataframe thead th {\n",
       "        text-align: right;\n",
       "    }\n",
       "</style>\n",
       "<table border=\"1\" class=\"dataframe\">\n",
       "  <thead>\n",
       "    <tr style=\"text-align: right;\">\n",
       "      <th></th>\n",
       "      <th>d_violencia</th>\n",
       "      <th>n_casos</th>\n",
       "      <th>%</th>\n",
       "    </tr>\n",
       "  </thead>\n",
       "  <tbody>\n",
       "    <tr>\n",
       "      <th>0</th>\n",
       "      <td>0</td>\n",
       "      <td>18395</td>\n",
       "      <td>66.16</td>\n",
       "    </tr>\n",
       "    <tr>\n",
       "      <th>1</th>\n",
       "      <td>1</td>\n",
       "      <td>9408</td>\n",
       "      <td>33.84</td>\n",
       "    </tr>\n",
       "  </tbody>\n",
       "</table>\n",
       "</div>"
      ],
      "text/plain": [
       "   d_violencia  n_casos      %\n",
       "0            0    18395  66.16\n",
       "1            1     9408  33.84"
      ]
     },
     "execution_count": 42,
     "metadata": {},
     "output_type": "execute_result"
    }
   ],
   "source": [
    "tab2 = data_final['y'].value_counts().to_frame().reset_index()\n",
    "tab2.rename(columns = {'index':'d_violencia', 'y':'n_casos'}, inplace = True)\n",
    "tab2['d_violencia'] = tab2['d_violencia'].astype(int)\n",
    "\n",
    "tab2['%'] = round( (tab2['n_casos']/sum(tab2.n_casos))*100 , 2)\n",
    "tab2"
   ]
  },
  {
   "cell_type": "markdown",
   "metadata": {},
   "source": [
    "Se encuentra que un 33.84% de las mujeres de la muestra sufren de, al menos, algún tipo de violencia por parte de su esposo/compañero."
   ]
  },
  {
   "cell_type": "markdown",
   "metadata": {},
   "source": [
    "#### Gráficos"
   ]
  },
  {
   "cell_type": "code",
   "execution_count": 44,
   "metadata": {},
   "outputs": [
    {
     "data": {
      "image/png": "[encoded data removed]",
      "text/plain": [
       "<Figure size 720x360 with 1 Axes>"
      ]
     },
     "metadata": {
      "needs_background": "light"
     },
     "output_type": "display_data"
    }
   ],
   "source": [
    "tab_plot=tab2.rename(columns = {'d_violencia':'Victima_control_pareja', 'n_casos':'Total'})\n",
    "tab_plot['Victima_control_pareja'] = tab_plot.Victima_control_pareja.astype(str)\n",
    "\n",
    "\n",
    "fig = plt.figure(figsize = (10, 5))\n",
    "#  Bar plot\n",
    "plt.bar(tab_plot['Victima_control_pareja'], tab_plot['Total'], color ='paleturquoise',\n",
    "        width = 0.5)\n",
    "plt.xlabel(\"Víctima de control por parte de su pareja\")\n",
    "plt.ylabel(\"Encuestadas\")\n",
    "plt.title(\"Número de encuestadas víctimas de control por parte de su pareja\")\n",
    "plt.show()"
   ]
  },
  {
   "cell_type": "code",
   "execution_count": 61,
   "metadata": {},
   "outputs": [],
   "source": [
    "tot_D106 = data_final.groupby('D106')['D106'].count()\n",
    "tot_D106=tot_D106.rename(None).to_frame().reset_index()\n",
    "tot_D106.columns=['Victima','Violencia_menos_severa']\n",
    "\n",
    "tot_D107 = data_final.groupby('D107')['D107'].count()\n",
    "tot_D107=tot_D107.rename(None).to_frame().reset_index()\n",
    "tot_D107.columns=['Victima','Violencia_severa']\n",
    "\n",
    "tot_D108 = data_final.groupby('D108')['D108'].count()\n",
    "tot_D108=tot_D108.rename(None).to_frame().reset_index()\n",
    "tot_D108.columns=['Victima','Violencia_sexual']\n",
    "\n",
    "tab_plot = pd.merge(tot_D106, tot_D107, on='Victima', how='left')\n",
    "tab_plot = pd.merge(tab_plot, tot_D108, on='Victima', how='left')\n",
    "tab_plot['Victima'] = tab_plot.Victima.astype(str)\n",
    "\n",
    "tab_plot = tab_plot.set_index('Victima')"
   ]
  },
  {
   "cell_type": "code",
   "execution_count": 62,
   "metadata": {},
   "outputs": [
    {
     "data": {
      "text/html": [
       "<div>\n",
       "<style scoped>\n",
       "    .dataframe tbody tr th:only-of-type {\n",
       "        vertical-align: middle;\n",
       "    }\n",
       "\n",
       "    .dataframe tbody tr th {\n",
       "        vertical-align: top;\n",
       "    }\n",
       "\n",
       "    .dataframe thead th {\n",
       "        text-align: right;\n",
       "    }\n",
       "</style>\n",
       "<table border=\"1\" class=\"dataframe\">\n",
       "  <thead>\n",
       "    <tr style=\"text-align: right;\">\n",
       "      <th></th>\n",
       "      <th>Violencia_menos_severa</th>\n",
       "      <th>Violencia_severa</th>\n",
       "      <th>Violencia_sexual</th>\n",
       "    </tr>\n",
       "    <tr>\n",
       "      <th>Victima</th>\n",
       "      <th></th>\n",
       "      <th></th>\n",
       "      <th></th>\n",
       "    </tr>\n",
       "  </thead>\n",
       "  <tbody>\n",
       "    <tr>\n",
       "      <th>0.0</th>\n",
       "      <td>20445</td>\n",
       "      <td>25303</td>\n",
       "      <td>26244</td>\n",
       "    </tr>\n",
       "    <tr>\n",
       "      <th>1.0</th>\n",
       "      <td>7358</td>\n",
       "      <td>2500</td>\n",
       "      <td>1559</td>\n",
       "    </tr>\n",
       "  </tbody>\n",
       "</table>\n",
       "</div>"
      ],
      "text/plain": [
       "         Violencia_menos_severa  Violencia_severa  Violencia_sexual\n",
       "Victima                                                            \n",
       "0.0                       20445             25303             26244\n",
       "1.0                        7358              2500              1559"
      ]
     },
     "execution_count": 62,
     "metadata": {},
     "output_type": "execute_result"
    }
   ],
   "source": [
    "tab_plot"
   ]
  },
  {
   "cell_type": "code",
   "execution_count": 63,
   "metadata": {},
   "outputs": [
    {
     "data": {
      "text/plain": [
       "Text(0, 0.5, 'Experimentó violencia')"
      ]
     },
     "execution_count": 63,
     "metadata": {},
     "output_type": "execute_result"
    },
    {
     "data": {
      "image/png": "[encoded data removed]",
      "text/plain": [
       "<Figure size 1080x576 with 1 Axes>"
      ]
     },
     "metadata": {
      "needs_background": "light"
     },
     "output_type": "display_data"
    }
   ],
   "source": [
    "tab_plot.plot(kind=\"bar\",figsize=(15, 8), color = ['lightcoral','indianred','firebrick'])\n",
    "\n",
    "plt.title(\"Número de mujeres víctima de violencia, según el tipo de violencia\")\n",
    "\n",
    "plt.xlabel(\"Total\")\n",
    "\n",
    "plt.ylabel(\"Experimentó violencia\")"
   ]
  },
  {
   "cell_type": "markdown",
   "metadata": {},
   "source": [
    "### Parte b"
   ]
  },
  {
   "cell_type": "code",
   "execution_count": 70,
   "metadata": {},
   "outputs": [
    {
     "data": {
      "text/plain": [
       "Index(['ID1', 'SREGION', 'SPROVIN', 'SDISTRI', 'CASEID', 'S108N', 'S119',\n",
       "       'S119D', 'V218', 'V213', 'V225', 'S45D4', 'S45D5', 'S45P4', 'S45P5',\n",
       "       'S45B0', 'S45B1', 'S45B2', 'S45B3', 'S45F1', 'S45F2', 'V501', 'V714',\n",
       "       'D104', 'D106', 'D107', 'D108', 'violencia', 'y'],\n",
       "      dtype='object')"
      ]
     },
     "execution_count": 70,
     "metadata": {},
     "output_type": "execute_result"
    }
   ],
   "source": [
    "data_final.columns"
   ]
  },
  {
   "cell_type": "markdown",
   "metadata": {},
   "source": [
    "#### Definición de predictores (X) y vector de target (y)"
   ]
  },
  {
   "cell_type": "code",
   "execution_count": 91,
   "metadata": {},
   "outputs": [
    {
     "name": "stdout",
     "output_type": "stream",
     "text": [
      "SREGION: category\n",
      "SPROVIN: category\n",
      "SDISTRI: Float64\n",
      "S108N: Float64\n",
      "S119: Float64\n",
      "S119D: Float64\n",
      "V218: Float64\n",
      "V213: Float64\n",
      "V225: Float64\n",
      "S45D4: Float64\n",
      "S45D5: Float64\n",
      "S45P4: Float64\n",
      "S45P5: Float64\n",
      "S45B0: Float64\n",
      "S45B1: Float64\n",
      "S45B2: Float64\n",
      "S45B3: Float64\n",
      "S45F1: Float64\n",
      "S45F2: Float64\n",
      "V501: Float64\n",
      "V714: Float64\n",
      "D104: Float64\n",
      "D106: Float64\n",
      "D107: Float64\n",
      "D108: Float64\n",
      "violencia: Float64\n",
      "y: Float64\n"
     ]
    }
   ],
   "source": [
    "# Printeamos qué tipo de variable es cada columna sin considerar a los identificadores (ID1, CASEID)\n",
    "for col in data_final:\n",
    "    if col != 'ID1' and col != 'CASEID':\n",
    "        print(f\"{col}:\", data_final[col].dtypes )"
   ]
  },
  {
   "cell_type": "code",
   "execution_count": 79,
   "metadata": {},
   "outputs": [
    {
     "name": "stdout",
     "output_type": "stream",
     "text": [
      "SREGION: type\n",
      "3.0    14068\n",
      "2.0    12699\n",
      "4.0    10856\n",
      "1.0     5514\n",
      "Name: SREGION, dtype: Int64\n",
      "SPROVIN: type\n",
      "1.0     21932\n",
      "2.0      4263\n",
      "3.0      3738\n",
      "6.0      2359\n",
      "7.0      2088\n",
      "5.0      2036\n",
      "8.0      1638\n",
      "4.0      1526\n",
      "9.0      1091\n",
      "18.0      661\n",
      "10.0      595\n",
      "11.0      584\n",
      "12.0      350\n",
      "13.0      164\n",
      "20.0       59\n",
      "15.0       39\n",
      "16.0       14\n",
      "Name: SPROVIN, dtype: Int64\n",
      "SDISTRI: type\n",
      "1.0     13921\n",
      "2.0      3419\n",
      "4.0      2863\n",
      "5.0      2857\n",
      "3.0      2705\n",
      "6.0      2664\n",
      "7.0      2167\n",
      "10.0     2026\n",
      "8.0      1770\n",
      "9.0      1202\n",
      "12.0     1083\n",
      "11.0      826\n",
      "13.0      772\n",
      "14.0      522\n",
      "32.0      499\n",
      "15.0      425\n",
      "17.0      380\n",
      "35.0      379\n",
      "16.0      282\n",
      "19.0      252\n",
      "18.0      214\n",
      "33.0      214\n",
      "25.0      211\n",
      "43.0      182\n",
      "42.0      176\n",
      "37.0      140\n",
      "20.0      137\n",
      "28.0      129\n",
      "22.0      114\n",
      "23.0      111\n",
      "29.0       94\n",
      "21.0       77\n",
      "40.0       56\n",
      "36.0       48\n",
      "31.0       43\n",
      "26.0       41\n",
      "30.0       40\n",
      "34.0       28\n",
      "24.0       27\n",
      "39.0       21\n",
      "41.0       20\n",
      "Name: SDISTRI, dtype: Int64\n",
      "S108N: type\n",
      "2.0    21139\n",
      "1.0     8982\n",
      "3.0     6419\n",
      "4.0     5643\n",
      "0.0      591\n",
      "5.0      363\n",
      "Name: S108N, dtype: Int64\n",
      "S119: type\n",
      "10.0    34581\n",
      "1.0      6772\n",
      "2.0       813\n",
      "9.0       305\n",
      "4.0       227\n",
      "5.0       165\n",
      "3.0       157\n",
      "6.0        43\n",
      "11.0       30\n",
      "12.0       24\n",
      "7.0        10\n",
      "8.0        10\n",
      "Name: S119, dtype: Int64\n",
      "S119D: type\n",
      "7.0     18437\n",
      "1.0     11784\n",
      "5.0      4960\n",
      "6.0      3061\n",
      "98.0     2118\n",
      "2.0      1280\n",
      "3.0       949\n",
      "8.0       385\n",
      "4.0       163\n",
      "Name: S119D, dtype: Int64\n",
      "V218: type\n",
      "2.0     10951\n",
      "0.0     10374\n",
      "1.0      7727\n",
      "3.0      7105\n",
      "4.0      3567\n",
      "5.0      1630\n",
      "6.0       889\n",
      "7.0       436\n",
      "8.0       272\n",
      "9.0       115\n",
      "10.0       52\n",
      "11.0       17\n",
      "14.0        1\n",
      "12.0        1\n",
      "Name: V218, dtype: Int64\n",
      "V213: type\n",
      "0.0    41940\n",
      "1.0     1197\n",
      "Name: V213, dtype: Int64\n",
      "V225: type\n",
      "2.0    501\n",
      "1.0    436\n",
      "3.0    260\n",
      "Name: V225, dtype: Int64\n",
      "S45D4: type\n",
      "0.0    13605\n",
      "1.0    11187\n",
      "8.0      493\n",
      "2.0       82\n",
      "3.0       23\n",
      "Name: S45D4, dtype: Int64\n",
      "S45D5: type\n",
      "0.0    22978\n",
      "1.0     1898\n",
      "8.0      493\n",
      "2.0       19\n",
      "3.0        2\n",
      "Name: S45D5, dtype: Int64\n",
      "S45P4: type\n",
      "0.0    14684\n",
      "1.0    10061\n",
      "8.0      538\n",
      "2.0       91\n",
      "3.0       16\n",
      "Name: S45P4, dtype: Int64\n",
      "S45P5: type\n",
      "0.0    22875\n",
      "1.0     1949\n",
      "8.0      538\n",
      "2.0       24\n",
      "3.0        4\n",
      "Name: S45P5, dtype: Int64\n",
      "S45B0: type\n",
      "1.0    17689\n",
      "2.0     4541\n",
      "0.0     3056\n",
      "3.0       57\n",
      "8.0       47\n",
      "Name: S45B0, dtype: Int64\n",
      "S45B1: type\n",
      "0.0    21793\n",
      "2.0     2956\n",
      "8.0      524\n",
      "1.0      117\n",
      "Name: S45B1, dtype: Int64\n",
      "S45B2: type\n",
      "0.0    22618\n",
      "2.0     2150\n",
      "8.0      524\n",
      "1.0       98\n",
      "Name: S45B2, dtype: Int64\n",
      "S45B3: type\n",
      "0.0    24747\n",
      "8.0      524\n",
      "1.0       80\n",
      "2.0       39\n",
      "Name: S45B3, dtype: Int64\n",
      "S45F1: type\n",
      "0.0    21312\n",
      "2.0     3838\n",
      "8.0      133\n",
      "1.0      107\n",
      "Name: S45F1, dtype: Int64\n",
      "S45F2: type\n",
      "0.0    21688\n",
      "2.0     2955\n",
      "8.0      657\n",
      "1.0       90\n",
      "Name: S45F2, dtype: Int64\n",
      "V501: type\n",
      "2.0    19920\n",
      "0.0    10956\n",
      "1.0     7272\n",
      "5.0     4868\n",
      "3.0       75\n",
      "4.0       46\n",
      "Name: V501, dtype: Int64\n",
      "V714: type\n",
      "1.0    20507\n",
      "0.0    19535\n",
      "Name: V714, dtype: Int64\n",
      "D104: type\n",
      "0.0    21544\n",
      "1.0     6259\n",
      "Name: D104, dtype: Int64\n",
      "D106: type\n",
      "0.0    20445\n",
      "1.0     7358\n",
      "Name: D106, dtype: Int64\n",
      "D107: type\n",
      "0.0    25303\n",
      "1.0     2500\n",
      "Name: D107, dtype: Int64\n",
      "D108: type\n",
      "0.0    26244\n",
      "1.0     1559\n",
      "Name: D108, dtype: Int64\n",
      "violencia: type\n",
      "0.0    18395\n",
      "1.0     4372\n",
      "2.0     2621\n",
      "3.0     1598\n",
      "4.0      817\n",
      "Name: violencia, dtype: Int64\n",
      "y: type\n",
      "0.0    18395\n",
      "1.0     9408\n",
      "Name: y, dtype: Int64\n"
     ]
    }
   ],
   "source": [
    "for col in data_final:\n",
    "    if col != 'ID1' and col != 'CASEID':\n",
    "        print(f\"{col}:\", )\n",
    "        print(data_final[col].value_counts())"
   ]
  },
  {
   "cell_type": "code",
   "execution_count": 97,
   "metadata": {},
   "outputs": [],
   "source": [
    "categorical_vars = ['SREGION', 'S108N', 'S119', 'S119D', 'V213', 'V225', 'S119', 'V501', 'V714'] \n",
    "\n",
    "integer_vars = ['V218']"
   ]
  },
  {
   "cell_type": "code",
   "execution_count": 95,
   "metadata": {},
   "outputs": [],
   "source": [
    "#convertimos las variables que deberian ser categóricas en \"category\"\n",
    "for col in categorical_vars:\n",
    "    data_final[col] = data_final[col].astype('category',copy=False)"
   ]
  },
  {
   "cell_type": "code",
   "execution_count": 115,
   "metadata": {},
   "outputs": [
    {
     "name": "stdout",
     "output_type": "stream",
     "text": [
      "sierra    14068\n",
      "Costa     12699\n",
      "selva     10856\n",
      "Lima       5514\n",
      "Name: SREGION, dtype: int64\n",
      "secundaria           21139\n",
      "primaria              8982\n",
      "universitario         6419\n",
      "no_universitarrio     5643\n",
      "ninguno                591\n",
      "postgrado              363\n",
      "Name: S108N, dtype: int64\n",
      "10.0                  34581\n",
      "nativo                 7742\n",
      "9.0                     305\n",
      "no_universitar<rio      227\n",
      "postgrado               165\n",
      "6.0                      43\n",
      "11.0                     30\n",
      "12.0                     24\n",
      "7.0                      10\n",
      "8.0                      10\n",
      "Name: S119, dtype: int64\n",
      "7.0     18437\n",
      "1.0     11784\n",
      "5.0      4960\n",
      "6.0      3061\n",
      "98.0     2118\n",
      "2.0      1280\n",
      "3.0       949\n",
      "8.0       385\n",
      "4.0       163\n",
      "Name: S119D, dtype: int64\n",
      "0.0    41940\n",
      "1.0     1197\n",
      "Name: V213, dtype: int64\n",
      "2.0    501\n",
      "1.0    436\n",
      "3.0    260\n",
      "Name: V225, dtype: int64\n",
      "10.0                  34581\n",
      "nativo                 7742\n",
      "9.0                     305\n",
      "no_universitar<rio      227\n",
      "postgrado               165\n",
      "6.0                      43\n",
      "11.0                     30\n",
      "12.0                     24\n",
      "7.0                      10\n",
      "8.0                      10\n",
      "Name: S119, dtype: int64\n",
      "2.0    19920\n",
      "0.0    10956\n",
      "1.0     7272\n",
      "5.0     4868\n",
      "3.0       75\n",
      "4.0       46\n",
      "Name: V501, dtype: int64\n",
      "1.0    20507\n",
      "0.0    19535\n",
      "Name: V714, dtype: int64\n"
     ]
    }
   ],
   "source": [
    "for col in categorical_vars:\n",
    "    print(data_final[col].value_counts())"
   ]
  },
  {
   "cell_type": "code",
   "execution_count": 114,
   "metadata": {},
   "outputs": [],
   "source": [
    "#colocandole labels a las variables categóricas para mayor entendimiento\n",
    "\n",
    "#región natural:\n",
    "data_final.SREGION.replace({1.0:'lima', 2.0: 'costa', 3.0:'sierra',4.0:'selva'}, inplace = True)\n",
    "\n",
    "#nivel educativo:\n",
    "data_final.S108N.replace({0.0:'ninguno', 1.0: 'primaria', 2.0:'secundaria',3.0:'superior',4.0:'superior',5.0:'superior'}, inplace = True)\n",
    "\n",
    "#lengua materna:\n",
    "data_final.S119.replace({1.0:'nativo', 2.0: 'nativo', 3.0:'nativo',4.0:'nativo',5.0:'nativo',6.0:'nativo', 7.0:'nativo', 8.0:'nativo', 9.0:'nativo', 10.0:'castellano', 11.0:'extranjero', 12.0:'extranjero'}, inplace = True)\n",
    "\n",
    "#lengua materna:\n"
   ]
  },
  {
   "cell_type": "code",
   "execution_count": 105,
   "metadata": {},
   "outputs": [
    {
     "data": {
      "text/plain": [
       "0        3.0\n",
       "1        3.0\n",
       "2        3.0\n",
       "3        3.0\n",
       "4        3.0\n",
       "        ... \n",
       "43132    4.0\n",
       "43133    4.0\n",
       "43134    4.0\n",
       "43135    4.0\n",
       "43136    4.0\n",
       "Name: SREGION, Length: 43137, dtype: category\n",
       "Categories (4, Float64): [1.0, 2.0, 3.0, 4.0]"
      ]
     },
     "execution_count": 105,
     "metadata": {},
     "output_type": "execute_result"
    }
   ],
   "source": [
    "data_final.SREGION"
   ]
  },
  {
   "cell_type": "code",
   "execution_count": 96,
   "metadata": {},
   "outputs": [
    {
     "name": "stdout",
     "output_type": "stream",
     "text": [
      "SREGION: category\n",
      "SPROVIN: category\n",
      "SDISTRI: Float64\n",
      "S108N: category\n",
      "S119: category\n",
      "S119D: category\n",
      "V218: Float64\n",
      "V213: category\n",
      "V225: category\n",
      "S45D4: Float64\n",
      "S45D5: Float64\n",
      "S45P4: Float64\n",
      "S45P5: Float64\n",
      "S45B0: Float64\n",
      "S45B1: Float64\n",
      "S45B2: Float64\n",
      "S45B3: Float64\n",
      "S45F1: Float64\n",
      "S45F2: Float64\n",
      "V501: category\n",
      "V714: category\n",
      "D104: Float64\n",
      "D106: Float64\n",
      "D107: Float64\n",
      "D108: Float64\n",
      "violencia: Float64\n",
      "y: Float64\n"
     ]
    }
   ],
   "source": [
    "for col in data_final:\n",
    "    if col != 'ID1' and col != 'CASEID':\n",
    "        print(f\"{col}:\", data_final[col].dtypes )"
   ]
  }
 ],
 "metadata": {
  "kernelspec": {
   "display_name": "Python 3",
   "language": "python",
   "name": "python3"
  },
  "language_info": {
   "codemirror_mode": {
    "name": "ipython",
    "version": 3
   },
   "file_extension": ".py",
   "mimetype": "text/x-python",
   "name": "python",
   "nbconvert_exporter": "python",
   "pygments_lexer": "ipython3",
   "version": "3.8.5"
  }
 },
 "nbformat": 4,
 "nbformat_minor": 5
}

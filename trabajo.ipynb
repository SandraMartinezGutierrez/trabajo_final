{
 "cells": [
  {
   "cell_type": "code",
   "execution_count": 1,
   "metadata": {},
   "outputs": [],
   "source": [
    "import pandas as pd\n",
    "import numpy as np\n",
    "import pyreadr\n",
    "import math\n",
    "import random\n",
    "import os\n",
    "import csv\n",
    "\n",
    "from sklearn.preprocessing import PolynomialFeatures\n",
    "from sklearn.linear_model import LinearRegression\n",
    "from sklearn.model_selection import train_test_split,cross_val_score\n",
    "from sklearn.metrics import mean_squared_error\n",
    "\n",
    "import matplotlib.pyplot as plt\n",
    "import seaborn as sns\n",
    "\n",
    "import warnings\n",
    "warnings.filterwarnings(\"ignore\")\n",
    "\n",
    "import os\n",
    "import time"
   ]
  },
  {
   "cell_type": "code",
   "execution_count": 7,
   "metadata": {},
   "outputs": [
    {
     "name": "stdout",
     "output_type": "stream",
     "text": [
      "Files and directories in a specified path:\n",
      "data\\endes_2021_programas_sociales_hogar.csv\n",
      "data\\endes_2021_RE223132.csv\n",
      "data\\endes_2021_RE516171.csv\n",
      "data\\endes_2021_RE758081.csv\n",
      "data\\endes_2021_REC84DV.csv\n",
      "data\\endes_2021_REC91.csv\n",
      "data\\endes_2021_REC93DVdisciplina.csv\n",
      "data\\endes_2021_REC95.csv\n",
      "data\\endes_2021_RECH23.csv\n",
      "Wall time: 4.99 ms\n"
     ]
    }
   ],
   "source": [
    "%%time \n",
    "\n",
    "# Abriendo los archivos .csv\n",
    "folderpath =  r\"data\"\n",
    "print(\"Files and directories in a specified path:\")\n",
    "files = []\n",
    "for filename in os.listdir(folderpath):\n",
    "    f = os.path.join(folderpath, filename)\n",
    "    files.append(f)\n",
    "    if os.path.isfile(f):\n",
    "        print(f)"
   ]
  },
  {
   "cell_type": "markdown",
   "metadata": {},
   "source": [
    "### Import csv using dask\n"
   ]
  },
  {
   "cell_type": "code",
   "execution_count": 4,
   "metadata": {
    "scrolled": true
   },
   "outputs": [
    {
     "data": {
      "text/html": [
       "<table style=\"border: 2px solid white;\">\n",
       "<tr>\n",
       "<td style=\"vertical-align: top; border: 0px solid white\">\n",
       "<h3 style=\"text-align: left;\">Client</h3>\n",
       "<ul style=\"text-align: left; list-style: none; margin: 0; padding: 0;\">\n",
       "  <li><b>Scheduler: </b>tcp://127.0.0.1:54276</li>\n",
       "  <li><b>Dashboard: </b><a href='http://127.0.0.1:8787/status' target='_blank'>http://127.0.0.1:8787/status</a></li>\n",
       "</ul>\n",
       "</td>\n",
       "<td style=\"vertical-align: top; border: 0px solid white\">\n",
       "<h3 style=\"text-align: left;\">Cluster</h3>\n",
       "<ul style=\"text-align: left; list-style:none; margin: 0; padding: 0;\">\n",
       "  <li><b>Workers: </b>4</li>\n",
       "  <li><b>Cores: </b>8</li>\n",
       "  <li><b>Memory: </b>12.68 GB</li>\n",
       "</ul>\n",
       "</td>\n",
       "</tr>\n",
       "</table>"
      ],
      "text/plain": [
       "<Client: 'tcp://127.0.0.1:54276' processes=4 threads=8, memory=12.68 GB>"
      ]
     },
     "execution_count": 4,
     "metadata": {},
     "output_type": "execute_result"
    }
   ],
   "source": [
    "from dask.distributed import Client, LocalCluster\n",
    "cluster = LocalCluster()  # Launches a scheduler and workers locally\n",
    "client = Client(cluster)  # Connect to distributed cluster and override default\n",
    "client"
   ]
  },
  {
   "cell_type": "code",
   "execution_count": 5,
   "metadata": {},
   "outputs": [],
   "source": [
    "import dask.dataframe as dd"
   ]
  },
  {
   "cell_type": "code",
   "execution_count": 8,
   "metadata": {},
   "outputs": [],
   "source": [
    "#guardamos los dask dataframes en una lista\n",
    "dfs = []\n",
    "\n",
    "for file in files:\n",
    "    \n",
    "    df = dd.read_csv(file, dtype=str)\n",
    "    dfs.append(df)"
   ]
  },
  {
   "cell_type": "code",
   "execution_count": 9,
   "metadata": {},
   "outputs": [],
   "source": [
    "#asignamos nombres a los dataframes\n",
    "programas_sociales = dfs[0]\n",
    "nacimiento = dfs[1]\n",
    "nupcialidad_fecundidad = dfs[2]\n",
    "sida_condon = dfs[3]\n",
    "mortalidad_violencia = dfs[4]\n",
    "MEF = dfs[5] \n",
    "disciplina_infantil = dfs[6]\n",
    "inmunizacion_salud = dfs[7]\n",
    "vivienda = dfs[8]"
   ]
  },
  {
   "cell_type": "code",
   "execution_count": 10,
   "metadata": {},
   "outputs": [
    {
     "name": "stdout",
     "output_type": "stream",
     "text": [
      "nacimiento\n",
      "nupcialidad_fecundidad\n",
      "sida_condon\n",
      "mortalidad_violencia\n",
      "MEF\n",
      "disciplina_infantil\n",
      "inmunizacion_salud\n"
     ]
    }
   ],
   "source": [
    "# identificar bases que tengan CASEID\n",
    "df_list = [programas_sociales, nacimiento, nupcialidad_fecundidad, sida_condon, mortalidad_violencia, MEF, disciplina_infantil,\n",
    "          inmunizacion_salud,vivienda]\n",
    "\n",
    "df_list_names = [\"programas_sociales\", \"nacimiento\", \"nupcialidad_fecundidad\", \"sida_condon\", \"mortalidad_violencia\", \"MEF\", \"disciplina_infantil\",\n",
    "          \"inmunizacion_salud\",\"vivienda\"]\n",
    "\n",
    "df_CASEID = []\n",
    "\n",
    "for df, df_name in zip(df_list,df_list_names):\n",
    "       \n",
    "    if 'CASEID' in df.columns:\n",
    "        print(df_name)\n",
    "        \n",
    "        df_CASEID.append(df)"
   ]
  },
  {
   "cell_type": "markdown",
   "metadata": {},
   "source": [
    "#### Merging dfs"
   ]
  },
  {
   "cell_type": "code",
   "execution_count": 11,
   "metadata": {},
   "outputs": [],
   "source": [
    "base_total = nacimiento.merge(nupcialidad_fecundidad, on = ['CASEID', 'ID1'], how ='left').merge(sida_condon, on = ['CASEID', 'ID1'], how ='left').merge(mortalidad_violencia, on = ['CASEID', 'ID1'], how ='left').merge(MEF, on = ['CASEID', 'ID1'], how ='left').merge(disciplina_infantil, on = ['CASEID', 'ID1'], how ='left').merge(inmunizacion_salud, on = ['CASEID', 'ID1'], how ='left')"
   ]
  },
  {
   "cell_type": "code",
   "execution_count": 13,
   "metadata": {},
   "outputs": [],
   "source": [
    "df_final = base_total.compute()"
   ]
  },
  {
   "cell_type": "code",
   "execution_count": 14,
   "metadata": {
    "scrolled": true
   },
   "outputs": [
    {
     "data": {
      "text/plain": [
       "ID1         object\n",
       "CASEID      object\n",
       "V201        object\n",
       "V202        object\n",
       "V203        object\n",
       "             ...  \n",
       "S466DC12    object\n",
       "S466MC12    object\n",
       "S466YC12    object\n",
       "S466WC12    object\n",
       "S466HC12    object\n",
       "Length: 1272, dtype: object"
      ]
     },
     "execution_count": 14,
     "metadata": {},
     "output_type": "execute_result"
    }
   ],
   "source": [
    "df_final.dtypes"
   ]
  },
  {
   "cell_type": "code",
   "execution_count": 15,
   "metadata": {},
   "outputs": [
    {
     "name": "stdout",
     "output_type": "stream",
     "text": [
      "Wall time: 673 ms\n"
     ]
    },
    {
     "data": {
      "text/plain": [
       "(43137, 27)"
      ]
     },
     "execution_count": 15,
     "metadata": {},
     "output_type": "execute_result"
    }
   ],
   "source": [
    "%%time \n",
    "\n",
    "# Seleccionando las variables de interés \n",
    "variables = ['ID1', 'SREGION', 'SPROVIN', 'SDISTRI', 'CASEID',\n",
    "             'S108N', 'S119', 'S119D', 'V218', 'V213', 'V225',    # carac. personales\n",
    "             'S45D4', 'S45D5', 'S45P4', 'S45P5', 'S45B0',    # vacunas\n",
    "             'S45B1', 'S45B2', 'S45B3', 'S45F1', 'S45F2',    # vacunas\n",
    "             'V501', 'V714', 'D104', 'D106', 'D107', 'D108']\n",
    "\n",
    "data_final = df_final[variables]\n",
    "data_final.shape"
   ]
  },
  {
   "cell_type": "code",
   "execution_count": 16,
   "metadata": {},
   "outputs": [],
   "source": [
    "for i in variables:\n",
    "        if data_final[i].dtype == 'O':\n",
    "            data_final[i] = data_final[i].str.replace(\" \", \"\")\n",
    "            # Reemplazando los missing values por NaN\n",
    "            data_final[i] = data_final[i].replace(' ', np.nan)\n",
    "\n",
    "            # Convirtiendo los datos a valores numéricos\n",
    "            data_final[i] =  np.floor(pd.to_numeric(data_final[i], errors='coerce').astype('Int64'))"
   ]
  },
  {
   "cell_type": "code",
   "execution_count": 17,
   "metadata": {},
   "outputs": [
    {
     "data": {
      "text/plain": [
       "ID1        Float64\n",
       "SREGION    Float64\n",
       "SPROVIN    Float64\n",
       "SDISTRI    Float64\n",
       "CASEID     Float64\n",
       "S108N      Float64\n",
       "S119       Float64\n",
       "S119D      Float64\n",
       "V218       Float64\n",
       "V213       Float64\n",
       "V225       Float64\n",
       "S45D4      Float64\n",
       "S45D5      Float64\n",
       "S45P4      Float64\n",
       "S45P5      Float64\n",
       "S45B0      Float64\n",
       "S45B1      Float64\n",
       "S45B2      Float64\n",
       "S45B3      Float64\n",
       "S45F1      Float64\n",
       "S45F2      Float64\n",
       "V501       Float64\n",
       "V714       Float64\n",
       "D104       Float64\n",
       "D106       Float64\n",
       "D107       Float64\n",
       "D108       Float64\n",
       "dtype: object"
      ]
     },
     "execution_count": 17,
     "metadata": {},
     "output_type": "execute_result"
    }
   ],
   "source": [
    "data_final.dtypes"
   ]
  },
  {
   "cell_type": "markdown",
   "metadata": {},
   "source": [
    "#### Creación de por lo menos dos variables"
   ]
  },
  {
   "cell_type": "markdown",
   "metadata": {},
   "source": [
    "*Las variables de interés son las siguientes:*\n",
    "\n",
    "D104: Hubo violencia emocional | 0=No, 1=Sí\n",
    "\n",
    "D106: Experimentó cualquier violencia física menos severa | 0=No, 1=Sí\n",
    "\n",
    "D107: Experimentó cualquier violencia física severa | 0=No, 1=Sí\n",
    "\n",
    "D108: Experimentó cualquier violencia sexual | 0=No, 1=Sí\n",
    "\n"
   ]
  },
  {
   "cell_type": "code",
   "execution_count": 18,
   "metadata": {},
   "outputs": [
    {
     "data": {
      "text/plain": [
       "0.0    18395\n",
       "1.0     4372\n",
       "2.0     2621\n",
       "3.0     1598\n",
       "4.0      817\n",
       "Name: violencia, dtype: Int64"
      ]
     },
     "execution_count": 18,
     "metadata": {},
     "output_type": "execute_result"
    }
   ],
   "source": [
    "# Agregando los datos para evaluar cuántas mujeres han sido víctimas de violencia en al menos una de sus modalidades\n",
    "data_final['violencia'] = data_final['D104'] + data_final['D106'] + data_final['D107'] + data_final['D108']\n",
    "\n",
    "# Contabilizando lo encontrado\n",
    "data_final['violencia'].value_counts()"
   ]
  },
  {
   "cell_type": "code",
   "execution_count": 19,
   "metadata": {},
   "outputs": [
    {
     "data": {
      "text/plain": [
       "0.0    18395\n",
       "1.0     9408\n",
       "Name: y, dtype: Int64"
      ]
     },
     "execution_count": 19,
     "metadata": {},
     "output_type": "execute_result"
    }
   ],
   "source": [
    "# Creando variable dummy \n",
    "\n",
    "data_final['y'] = data_final['violencia']\n",
    "data_final.loc[(data_final['y'] > 0), 'y'] = 1\n",
    "data_final['y'].value_counts()"
   ]
  },
  {
   "cell_type": "code",
   "execution_count": null,
   "metadata": {},
   "outputs": [],
   "source": []
  },
  {
   "cell_type": "code",
   "execution_count": null,
   "metadata": {},
   "outputs": [],
   "source": []
  },
  {
   "cell_type": "code",
   "execution_count": null,
   "metadata": {},
   "outputs": [],
   "source": []
  }
 ],
 "metadata": {
  "kernelspec": {
   "display_name": "Python 3",
   "language": "python",
   "name": "python3"
  },
  "language_info": {
   "codemirror_mode": {
    "name": "ipython",
    "version": 3
   },
   "file_extension": ".py",
   "mimetype": "text/x-python",
   "name": "python",
   "nbconvert_exporter": "python",
   "pygments_lexer": "ipython3",
   "version": "3.8.5"
  }
 },
 "nbformat": 4,
 "nbformat_minor": 5
}
